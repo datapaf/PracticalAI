{
  "nbformat": 4,
  "nbformat_minor": 0,
  "metadata": {
    "colab": {
      "provenance": [],
      "collapsed_sections": []
    },
    "kernelspec": {
      "name": "python3",
      "display_name": "Python 3"
    },
    "language_info": {
      "name": "python"
    },
    "accelerator": "GPU"
  },
  "cells": [
    {
      "cell_type": "markdown",
      "source": [
        "# PAI Assignment 3\n",
        "Student: Georgy Andryushchenko "
      ],
      "metadata": {
        "id": "1K_TRcC6b1s-"
      }
    },
    {
      "cell_type": "markdown",
      "source": [
        "For text classification I've chosen to build and train a BiLSTM model using Tensorflow. Since I have a little experience in building such models I used the help of [this tutorial](https://www.tensorflow.org/text/tutorials/text_classification_rnn)."
      ],
      "metadata": {
        "id": "UGUPmiWMcHcF"
      }
    },
    {
      "cell_type": "code",
      "source": [
        "!wget https://github.com/hsu-ai-course/hsu.ai/blob/master/code/datasets/nlp/smsspamcollection.zip?raw=true -O smsspamcollection.zip"
      ],
      "metadata": {
        "id": "rF2TOdz1_mf9"
      },
      "execution_count": null,
      "outputs": []
    },
    {
      "cell_type": "code",
      "execution_count": null,
      "metadata": {
        "colab": {
          "base_uri": "https://localhost:8080/"
        },
        "id": "9Bz3pxD70SXi",
        "outputId": "dc35df9b-acee-438c-814c-ece7ea8a4406"
      },
      "outputs": [
        {
          "output_type": "stream",
          "name": "stdout",
          "text": [
            "Archive:  smsspamcollection.zip\n",
            "  inflating: readme                  \n",
            "  inflating: SMSSpamCollection.txt   \n"
          ]
        }
      ],
      "source": [
        "!unzip smsspamcollection.zip"
      ]
    },
    {
      "cell_type": "code",
      "source": [
        "import pandas as pd\n",
        "import numpy as np\n",
        "import tensorflow as tf"
      ],
      "metadata": {
        "id": "qASbCKy70lSl"
      },
      "execution_count": null,
      "outputs": []
    },
    {
      "cell_type": "markdown",
      "source": [
        "### Data Preparation"
      ],
      "metadata": {
        "id": "6HTr_YnJ7MgO"
      }
    },
    {
      "cell_type": "code",
      "source": [
        "# read data from file\n",
        "df = pd.read_csv('SMSSpamCollection.txt', sep='\\t', names=['label', 'text'])\n",
        "df"
      ],
      "metadata": {
        "colab": {
          "base_uri": "https://localhost:8080/",
          "height": 424
        },
        "id": "u91ZC5NO09pz",
        "outputId": "069ce141-cf13-48b3-de41-139c5b48faf2"
      },
      "execution_count": null,
      "outputs": [
        {
          "output_type": "execute_result",
          "data": {
            "text/plain": [
              "     label                                               text\n",
              "0      ham  Go until jurong point, crazy.. Available only ...\n",
              "1      ham                      Ok lar... Joking wif u oni...\n",
              "2     spam  Free entry in 2 a wkly comp to win FA Cup fina...\n",
              "3      ham  U dun say so early hor... U c already then say...\n",
              "4      ham  Nah I don't think he goes to usf, he lives aro...\n",
              "...    ...                                                ...\n",
              "5567  spam  This is the 2nd time we have tried 2 contact u...\n",
              "5568   ham               Will ü b going to esplanade fr home?\n",
              "5569   ham  Pity, * was in mood for that. So...any other s...\n",
              "5570   ham  The guy did some bitching but I acted like i'd...\n",
              "5571   ham                         Rofl. Its true to its name\n",
              "\n",
              "[5572 rows x 2 columns]"
            ],
            "text/html": [
              "\n",
              "  <div id=\"df-2d067fd7-0c5d-49ed-b617-a087867d462f\">\n",
              "    <div class=\"colab-df-container\">\n",
              "      <div>\n",
              "<style scoped>\n",
              "    .dataframe tbody tr th:only-of-type {\n",
              "        vertical-align: middle;\n",
              "    }\n",
              "\n",
              "    .dataframe tbody tr th {\n",
              "        vertical-align: top;\n",
              "    }\n",
              "\n",
              "    .dataframe thead th {\n",
              "        text-align: right;\n",
              "    }\n",
              "</style>\n",
              "<table border=\"1\" class=\"dataframe\">\n",
              "  <thead>\n",
              "    <tr style=\"text-align: right;\">\n",
              "      <th></th>\n",
              "      <th>label</th>\n",
              "      <th>text</th>\n",
              "    </tr>\n",
              "  </thead>\n",
              "  <tbody>\n",
              "    <tr>\n",
              "      <th>0</th>\n",
              "      <td>ham</td>\n",
              "      <td>Go until jurong point, crazy.. Available only ...</td>\n",
              "    </tr>\n",
              "    <tr>\n",
              "      <th>1</th>\n",
              "      <td>ham</td>\n",
              "      <td>Ok lar... Joking wif u oni...</td>\n",
              "    </tr>\n",
              "    <tr>\n",
              "      <th>2</th>\n",
              "      <td>spam</td>\n",
              "      <td>Free entry in 2 a wkly comp to win FA Cup fina...</td>\n",
              "    </tr>\n",
              "    <tr>\n",
              "      <th>3</th>\n",
              "      <td>ham</td>\n",
              "      <td>U dun say so early hor... U c already then say...</td>\n",
              "    </tr>\n",
              "    <tr>\n",
              "      <th>4</th>\n",
              "      <td>ham</td>\n",
              "      <td>Nah I don't think he goes to usf, he lives aro...</td>\n",
              "    </tr>\n",
              "    <tr>\n",
              "      <th>...</th>\n",
              "      <td>...</td>\n",
              "      <td>...</td>\n",
              "    </tr>\n",
              "    <tr>\n",
              "      <th>5567</th>\n",
              "      <td>spam</td>\n",
              "      <td>This is the 2nd time we have tried 2 contact u...</td>\n",
              "    </tr>\n",
              "    <tr>\n",
              "      <th>5568</th>\n",
              "      <td>ham</td>\n",
              "      <td>Will ü b going to esplanade fr home?</td>\n",
              "    </tr>\n",
              "    <tr>\n",
              "      <th>5569</th>\n",
              "      <td>ham</td>\n",
              "      <td>Pity, * was in mood for that. So...any other s...</td>\n",
              "    </tr>\n",
              "    <tr>\n",
              "      <th>5570</th>\n",
              "      <td>ham</td>\n",
              "      <td>The guy did some bitching but I acted like i'd...</td>\n",
              "    </tr>\n",
              "    <tr>\n",
              "      <th>5571</th>\n",
              "      <td>ham</td>\n",
              "      <td>Rofl. Its true to its name</td>\n",
              "    </tr>\n",
              "  </tbody>\n",
              "</table>\n",
              "<p>5572 rows × 2 columns</p>\n",
              "</div>\n",
              "      <button class=\"colab-df-convert\" onclick=\"convertToInteractive('df-2d067fd7-0c5d-49ed-b617-a087867d462f')\"\n",
              "              title=\"Convert this dataframe to an interactive table.\"\n",
              "              style=\"display:none;\">\n",
              "        \n",
              "  <svg xmlns=\"http://www.w3.org/2000/svg\" height=\"24px\"viewBox=\"0 0 24 24\"\n",
              "       width=\"24px\">\n",
              "    <path d=\"M0 0h24v24H0V0z\" fill=\"none\"/>\n",
              "    <path d=\"M18.56 5.44l.94 2.06.94-2.06 2.06-.94-2.06-.94-.94-2.06-.94 2.06-2.06.94zm-11 1L8.5 8.5l.94-2.06 2.06-.94-2.06-.94L8.5 2.5l-.94 2.06-2.06.94zm10 10l.94 2.06.94-2.06 2.06-.94-2.06-.94-.94-2.06-.94 2.06-2.06.94z\"/><path d=\"M17.41 7.96l-1.37-1.37c-.4-.4-.92-.59-1.43-.59-.52 0-1.04.2-1.43.59L10.3 9.45l-7.72 7.72c-.78.78-.78 2.05 0 2.83L4 21.41c.39.39.9.59 1.41.59.51 0 1.02-.2 1.41-.59l7.78-7.78 2.81-2.81c.8-.78.8-2.07 0-2.86zM5.41 20L4 18.59l7.72-7.72 1.47 1.35L5.41 20z\"/>\n",
              "  </svg>\n",
              "      </button>\n",
              "      \n",
              "  <style>\n",
              "    .colab-df-container {\n",
              "      display:flex;\n",
              "      flex-wrap:wrap;\n",
              "      gap: 12px;\n",
              "    }\n",
              "\n",
              "    .colab-df-convert {\n",
              "      background-color: #E8F0FE;\n",
              "      border: none;\n",
              "      border-radius: 50%;\n",
              "      cursor: pointer;\n",
              "      display: none;\n",
              "      fill: #1967D2;\n",
              "      height: 32px;\n",
              "      padding: 0 0 0 0;\n",
              "      width: 32px;\n",
              "    }\n",
              "\n",
              "    .colab-df-convert:hover {\n",
              "      background-color: #E2EBFA;\n",
              "      box-shadow: 0px 1px 2px rgba(60, 64, 67, 0.3), 0px 1px 3px 1px rgba(60, 64, 67, 0.15);\n",
              "      fill: #174EA6;\n",
              "    }\n",
              "\n",
              "    [theme=dark] .colab-df-convert {\n",
              "      background-color: #3B4455;\n",
              "      fill: #D2E3FC;\n",
              "    }\n",
              "\n",
              "    [theme=dark] .colab-df-convert:hover {\n",
              "      background-color: #434B5C;\n",
              "      box-shadow: 0px 1px 3px 1px rgba(0, 0, 0, 0.15);\n",
              "      filter: drop-shadow(0px 1px 2px rgba(0, 0, 0, 0.3));\n",
              "      fill: #FFFFFF;\n",
              "    }\n",
              "  </style>\n",
              "\n",
              "      <script>\n",
              "        const buttonEl =\n",
              "          document.querySelector('#df-2d067fd7-0c5d-49ed-b617-a087867d462f button.colab-df-convert');\n",
              "        buttonEl.style.display =\n",
              "          google.colab.kernel.accessAllowed ? 'block' : 'none';\n",
              "\n",
              "        async function convertToInteractive(key) {\n",
              "          const element = document.querySelector('#df-2d067fd7-0c5d-49ed-b617-a087867d462f');\n",
              "          const dataTable =\n",
              "            await google.colab.kernel.invokeFunction('convertToInteractive',\n",
              "                                                     [key], {});\n",
              "          if (!dataTable) return;\n",
              "\n",
              "          const docLinkHtml = 'Like what you see? Visit the ' +\n",
              "            '<a target=\"_blank\" href=https://colab.research.google.com/notebooks/data_table.ipynb>data table notebook</a>'\n",
              "            + ' to learn more about interactive tables.';\n",
              "          element.innerHTML = '';\n",
              "          dataTable['output_type'] = 'display_data';\n",
              "          await google.colab.output.renderOutput(dataTable, element);\n",
              "          const docLink = document.createElement('div');\n",
              "          docLink.innerHTML = docLinkHtml;\n",
              "          element.appendChild(docLink);\n",
              "        }\n",
              "      </script>\n",
              "    </div>\n",
              "  </div>\n",
              "  "
            ]
          },
          "metadata": {},
          "execution_count": 4
        }
      ]
    },
    {
      "cell_type": "code",
      "source": [
        "# encode label column\n",
        "df['label'] = df['label'].astype('category').cat.codes\n",
        "df"
      ],
      "metadata": {
        "colab": {
          "base_uri": "https://localhost:8080/",
          "height": 424
        },
        "id": "yQkAPMEP6Q-6",
        "outputId": "ac4c5622-3c89-4c40-df4b-3ca7f60b6ba5"
      },
      "execution_count": null,
      "outputs": [
        {
          "output_type": "execute_result",
          "data": {
            "text/plain": [
              "      label                                               text\n",
              "0         0  Go until jurong point, crazy.. Available only ...\n",
              "1         0                      Ok lar... Joking wif u oni...\n",
              "2         1  Free entry in 2 a wkly comp to win FA Cup fina...\n",
              "3         0  U dun say so early hor... U c already then say...\n",
              "4         0  Nah I don't think he goes to usf, he lives aro...\n",
              "...     ...                                                ...\n",
              "5567      1  This is the 2nd time we have tried 2 contact u...\n",
              "5568      0               Will ü b going to esplanade fr home?\n",
              "5569      0  Pity, * was in mood for that. So...any other s...\n",
              "5570      0  The guy did some bitching but I acted like i'd...\n",
              "5571      0                         Rofl. Its true to its name\n",
              "\n",
              "[5572 rows x 2 columns]"
            ],
            "text/html": [
              "\n",
              "  <div id=\"df-0e305e7c-a412-4300-b2f4-bb9220690b20\">\n",
              "    <div class=\"colab-df-container\">\n",
              "      <div>\n",
              "<style scoped>\n",
              "    .dataframe tbody tr th:only-of-type {\n",
              "        vertical-align: middle;\n",
              "    }\n",
              "\n",
              "    .dataframe tbody tr th {\n",
              "        vertical-align: top;\n",
              "    }\n",
              "\n",
              "    .dataframe thead th {\n",
              "        text-align: right;\n",
              "    }\n",
              "</style>\n",
              "<table border=\"1\" class=\"dataframe\">\n",
              "  <thead>\n",
              "    <tr style=\"text-align: right;\">\n",
              "      <th></th>\n",
              "      <th>label</th>\n",
              "      <th>text</th>\n",
              "    </tr>\n",
              "  </thead>\n",
              "  <tbody>\n",
              "    <tr>\n",
              "      <th>0</th>\n",
              "      <td>0</td>\n",
              "      <td>Go until jurong point, crazy.. Available only ...</td>\n",
              "    </tr>\n",
              "    <tr>\n",
              "      <th>1</th>\n",
              "      <td>0</td>\n",
              "      <td>Ok lar... Joking wif u oni...</td>\n",
              "    </tr>\n",
              "    <tr>\n",
              "      <th>2</th>\n",
              "      <td>1</td>\n",
              "      <td>Free entry in 2 a wkly comp to win FA Cup fina...</td>\n",
              "    </tr>\n",
              "    <tr>\n",
              "      <th>3</th>\n",
              "      <td>0</td>\n",
              "      <td>U dun say so early hor... U c already then say...</td>\n",
              "    </tr>\n",
              "    <tr>\n",
              "      <th>4</th>\n",
              "      <td>0</td>\n",
              "      <td>Nah I don't think he goes to usf, he lives aro...</td>\n",
              "    </tr>\n",
              "    <tr>\n",
              "      <th>...</th>\n",
              "      <td>...</td>\n",
              "      <td>...</td>\n",
              "    </tr>\n",
              "    <tr>\n",
              "      <th>5567</th>\n",
              "      <td>1</td>\n",
              "      <td>This is the 2nd time we have tried 2 contact u...</td>\n",
              "    </tr>\n",
              "    <tr>\n",
              "      <th>5568</th>\n",
              "      <td>0</td>\n",
              "      <td>Will ü b going to esplanade fr home?</td>\n",
              "    </tr>\n",
              "    <tr>\n",
              "      <th>5569</th>\n",
              "      <td>0</td>\n",
              "      <td>Pity, * was in mood for that. So...any other s...</td>\n",
              "    </tr>\n",
              "    <tr>\n",
              "      <th>5570</th>\n",
              "      <td>0</td>\n",
              "      <td>The guy did some bitching but I acted like i'd...</td>\n",
              "    </tr>\n",
              "    <tr>\n",
              "      <th>5571</th>\n",
              "      <td>0</td>\n",
              "      <td>Rofl. Its true to its name</td>\n",
              "    </tr>\n",
              "  </tbody>\n",
              "</table>\n",
              "<p>5572 rows × 2 columns</p>\n",
              "</div>\n",
              "      <button class=\"colab-df-convert\" onclick=\"convertToInteractive('df-0e305e7c-a412-4300-b2f4-bb9220690b20')\"\n",
              "              title=\"Convert this dataframe to an interactive table.\"\n",
              "              style=\"display:none;\">\n",
              "        \n",
              "  <svg xmlns=\"http://www.w3.org/2000/svg\" height=\"24px\"viewBox=\"0 0 24 24\"\n",
              "       width=\"24px\">\n",
              "    <path d=\"M0 0h24v24H0V0z\" fill=\"none\"/>\n",
              "    <path d=\"M18.56 5.44l.94 2.06.94-2.06 2.06-.94-2.06-.94-.94-2.06-.94 2.06-2.06.94zm-11 1L8.5 8.5l.94-2.06 2.06-.94-2.06-.94L8.5 2.5l-.94 2.06-2.06.94zm10 10l.94 2.06.94-2.06 2.06-.94-2.06-.94-.94-2.06-.94 2.06-2.06.94z\"/><path d=\"M17.41 7.96l-1.37-1.37c-.4-.4-.92-.59-1.43-.59-.52 0-1.04.2-1.43.59L10.3 9.45l-7.72 7.72c-.78.78-.78 2.05 0 2.83L4 21.41c.39.39.9.59 1.41.59.51 0 1.02-.2 1.41-.59l7.78-7.78 2.81-2.81c.8-.78.8-2.07 0-2.86zM5.41 20L4 18.59l7.72-7.72 1.47 1.35L5.41 20z\"/>\n",
              "  </svg>\n",
              "      </button>\n",
              "      \n",
              "  <style>\n",
              "    .colab-df-container {\n",
              "      display:flex;\n",
              "      flex-wrap:wrap;\n",
              "      gap: 12px;\n",
              "    }\n",
              "\n",
              "    .colab-df-convert {\n",
              "      background-color: #E8F0FE;\n",
              "      border: none;\n",
              "      border-radius: 50%;\n",
              "      cursor: pointer;\n",
              "      display: none;\n",
              "      fill: #1967D2;\n",
              "      height: 32px;\n",
              "      padding: 0 0 0 0;\n",
              "      width: 32px;\n",
              "    }\n",
              "\n",
              "    .colab-df-convert:hover {\n",
              "      background-color: #E2EBFA;\n",
              "      box-shadow: 0px 1px 2px rgba(60, 64, 67, 0.3), 0px 1px 3px 1px rgba(60, 64, 67, 0.15);\n",
              "      fill: #174EA6;\n",
              "    }\n",
              "\n",
              "    [theme=dark] .colab-df-convert {\n",
              "      background-color: #3B4455;\n",
              "      fill: #D2E3FC;\n",
              "    }\n",
              "\n",
              "    [theme=dark] .colab-df-convert:hover {\n",
              "      background-color: #434B5C;\n",
              "      box-shadow: 0px 1px 3px 1px rgba(0, 0, 0, 0.15);\n",
              "      filter: drop-shadow(0px 1px 2px rgba(0, 0, 0, 0.3));\n",
              "      fill: #FFFFFF;\n",
              "    }\n",
              "  </style>\n",
              "\n",
              "      <script>\n",
              "        const buttonEl =\n",
              "          document.querySelector('#df-0e305e7c-a412-4300-b2f4-bb9220690b20 button.colab-df-convert');\n",
              "        buttonEl.style.display =\n",
              "          google.colab.kernel.accessAllowed ? 'block' : 'none';\n",
              "\n",
              "        async function convertToInteractive(key) {\n",
              "          const element = document.querySelector('#df-0e305e7c-a412-4300-b2f4-bb9220690b20');\n",
              "          const dataTable =\n",
              "            await google.colab.kernel.invokeFunction('convertToInteractive',\n",
              "                                                     [key], {});\n",
              "          if (!dataTable) return;\n",
              "\n",
              "          const docLinkHtml = 'Like what you see? Visit the ' +\n",
              "            '<a target=\"_blank\" href=https://colab.research.google.com/notebooks/data_table.ipynb>data table notebook</a>'\n",
              "            + ' to learn more about interactive tables.';\n",
              "          element.innerHTML = '';\n",
              "          dataTable['output_type'] = 'display_data';\n",
              "          await google.colab.output.renderOutput(dataTable, element);\n",
              "          const docLink = document.createElement('div');\n",
              "          docLink.innerHTML = docLinkHtml;\n",
              "          element.appendChild(docLink);\n",
              "        }\n",
              "      </script>\n",
              "    </div>\n",
              "  </div>\n",
              "  "
            ]
          },
          "metadata": {},
          "execution_count": 5
        }
      ]
    },
    {
      "cell_type": "code",
      "source": [
        "# compose tensorflow dataset\n",
        "dataset = tf.data.Dataset.from_tensor_slices(\n",
        "    (\n",
        "        tf.cast(df['text'].values, tf.string),\n",
        "        tf.cast(df['label'].values, tf.int8)\n",
        "    )\n",
        ")"
      ],
      "metadata": {
        "id": "iSWJFEjkE7Gj"
      },
      "execution_count": null,
      "outputs": []
    },
    {
      "cell_type": "code",
      "source": [
        "# split dataset as 90/10\n",
        "TRAIN_SIZE = int(0.9 * len(dataset))\n",
        "\n",
        "train_dataset = dataset.take(TRAIN_SIZE)\n",
        "test_dataset = dataset.skip(TRAIN_SIZE)"
      ],
      "metadata": {
        "id": "PApjOQeyHpda"
      },
      "execution_count": null,
      "outputs": []
    },
    {
      "cell_type": "code",
      "source": [
        "# create batches\n",
        "BATCH_SIZE = 15\n",
        "\n",
        "train_dataset = train_dataset.batch(BATCH_SIZE).prefetch(tf.data.AUTOTUNE)\n",
        "test_dataset = test_dataset.batch(BATCH_SIZE).prefetch(tf.data.AUTOTUNE)"
      ],
      "metadata": {
        "id": "WRXDJghmIEAS"
      },
      "execution_count": null,
      "outputs": []
    },
    {
      "cell_type": "markdown",
      "source": [
        "### Building Model"
      ],
      "metadata": {
        "id": "rsT8GpW5dCBt"
      }
    },
    {
      "cell_type": "markdown",
      "source": [
        "The model has the following architecture. It takes the sentence, maps indices from the encoder vocabulary to the words, and produces trainable embedding vector for each input word. The embedding vectors are processed by bidirectional LSTM layer. Fully connected(Dense) layer does classification afterwards."
      ],
      "metadata": {
        "id": "Un7R0RfYdobO"
      }
    },
    {
      "cell_type": "markdown",
      "source": [
        "![image.png](data:image/png;base64,iVBORw0KGgoAAAANSUhEUgAAAgIAAAIfCAYAAAACDbSJAAAgAElEQVR4nOzdf5yNdf7/8UefmW8zy2BklomhqaZIKsJGKKKlD6VCKVr90A+bflgsSouljdSypfRLP9m0VIRiI1oKSxHSkDL5MRmNjBifGTuzvn+8r2vmzJkzY36cc65znet5v93O7cxc5zrner/OcK7n9X6/r+uAiIiIiIiIiIiIiIiIiIiIiIiIiIiIiIiIiIiIiIiIiIiIiIiIiIiIiIiIiIiIiIiIiIiIiIiIiIiIiIiIiIiIRJrTnG5AqKWee/7JjO92Ot0MEYlOJ4A4pxshUh1RHwSAk5v2HHW6DSIShVo1qQXe+ByVKPY/TjdAREREnKMgICIi4mEKAiIiIh6mICAiIuJhCgIiIiIepiAgIiLiYQoCIiIiHqYgICIi4mEKAiIiIh6mICAiIuJhCgIiIiIepiAgIiLiYQoCIiIiHqYgICIi4mEKAiIiIh6mICAiIuJhCgIiIiIepiAgIiLiYQoCIiIiHqYgICIS+dKAQUBLpxsi0UdBQEQk8nUAXgd6O90QSzwwEbjZ6YZI9cU63YBoseqfS1i5bFGZj094+gWmPT6Wzr/tSau27Sv9+sdzc8k5fIiGKU2q00yRgDK+20nquec73YxTem3mNFq2aVel/0MSVO2AscDtTjdEqk89AkGSUKs2DVPOomHKWRz95Qgrly0u+r1hylkALF/yPvt++L5Krz9yyG18sW51MJssAsCKDxfy+CMPO90MEXGIegSCpE37TrRp3wmARfPnsOPrLdw7bEzAdY/+coS9Gd+Rem5TatSsWeKxQz9lkbl3Dw0bN6HerxsULT+Rnxe6xldBzs+H2JvxPfXPbEiDMxsFfCw17Xxq1a7jUAtPrbCggN3f7aSwoICz087n9Lh4p5tUSs7Ph8j6cT9pTZsTE1v6v2vGdzupn9yo6N9Rzs+HyNz3Q8B/Wyfy89i9aycxsbGcfe75Ra93/PixoLb50E9ZZB/MKmrz0V+OkLn3h4A17NqxndjY2Ar3RtwxZFipZRnf7aSgoIC0ps2D0n4XGYWZM/AYppu+HVAALLeWZVvrtQSmWcv6AL2s5auAx4EMn9dcCWwG/N/oaUAycAvQHZhsLR+N6RXoEqSaxAEKAmH2wbw5/O2JcdSqXYeDB/Yz9YXZXH5lN47n5jJyyG18t2M7DVOasGP7Fjp1vYbJM15j2uNj2fLlBnbt2M6uHd8w7NFJQW/X2IfvJrFuPUaMM/+/7+zzW35VM4Hn3nwPgHHD76PBmY0Y/MBIHn3objZtWMvZaeezfcuXtGx7Oc+8+g9iYmP586ihfL5qOY1Tz2H7li+54/fDGfzAyKC3t7pWf7KMCSPvp8GZjTiRn0fWj/uZ/NzrXH5lN6ebVuTxRx7mw/fncm7T5hw9coTCwgLufvCPXNt3AD0vv5DGqeeyfs1K2rTvxMvvfMiUP41gyXtzaXrhxez4egv3j/wTNw+6B4D5c17lual/pnHqORw6mEV+fj4v/P0D/i83l79OepTjubn0vPxClnz+dZXb26pJLXre2J91q1dyIj+Pxqnn0vPGm3n1ub9SWFhAYt16vLnwE2rVrsPWLzfw6MODiYuLJz8/j7i4eKa+8BYNU5rQ/bJmTHnudX7ToTMAmzasZejvbmDl5gzu/92NXNdvANf2HUDGdzsZNvgWYq1wUVBQwLRX3nbFEEeQNAN6AJ2BdMwcgo7AfUALoJO1XqK1zjwgB5huLXsYEwraAvusdTuXsa2WQKr1cy5wwPo5m5JBQlxIQwNhFhMTy4efb+P9lV9wXb+BzJn1PADvzpnF0V9yWPLZNl5995/M/ehzln0wn6wf9zPs0UlcfGlb/jD28ZCEAIBOXXvw2aqPATMfYdeO7Wze8DmFBQUAfLZqOV2v6c2yRe+ya8d2Pvx8Gy+/8yEf/Osr1q9ZyfYtm9ib8T0fzJvDe598wcvvfMgLcxaxctnioteIJBNG3s+YiU8zZ/GnzPt4Pd16Xl/0t4gEZs7JYj7411e8ueATHv3LdPZmlB5WWv/tT0ye8RqL5s/hX8s/4v2V5r1/c+EnPDP5T+z4egtHfznC5MeG89yb7/Hmgk9Y8vnXpDVtzrtzXuUi69/VxZe2rVYIsMXExLD8i10s+fxrMr7bwZYvN7BsfTpLPvua/zuey+efLqewoICRQ27jhltuZ97H6/ngX1/Rsm17Hn3obk6Pi6fnDf35YN6cotf88P136H5d31I9No8+dDdduvdi3sfrmffxenpc15c/Db+v2jW4TCLwAuaIfAJwNbAYEwiS/dbNw+z0n8P0BFwNJAHjKrnNNcAU6+dXgDuq0nCJHAoCYdbD5wOt+cWtyNz7AwC33fMgr83/J8eP57J9y5d8sW4NAIWFhWFpV6erepC5bw9ZP+7n35+tok37TtRPbsSmDWvZ+uUGYmNjaXrhxVzbdwDzP15PQUEhO77ewuefLqdGjZrk5+eReEY94uLiGPvwYJYtepfGqecwZ/GnAbu0nbb8i110/m1PMvft4fNPl3M8Nzeihl9WLltEj+v6Fg0PtWnfieYXX1piHfvfUr1fN2D5kgVcdOlv2L1rJxvXrib7YBbnNm3O6k+WUat2Hdbv/ImmzS9mb8b3rP5kGUd/OcLx3OAOCQD0vLE/ALVq1yGxbj06dO5GTGwsNWrWpHHqOZzIz2P7lk1k/5TFgDuHFD1v8AMj2b7lSw79lMW1fW9l5bJFnMjP40R+Hss/XMANNw8qsZ3MfXvYvuVL0po2Z+Pa1Wxcu5rGqeew9csN5Px8KOh1RbhZfr+vsu6b+S2fAfj+0Tdb6/YNUbvEJSLvEzrKxcTGlPjd3vlkfLeTRx+628wdSDufVm0vD2u7atSsSau27fn3Z6vYvmUTl3XsQr1fNygKJN3+93rAfACPfWgwO7Zv4dymzbnw4kuLdvS1atfhjQWf8PrMaUwdP4qcw4fo9r/X8/j0lyMuDLw2cxqvPDOFer9uYMauYyKrfVk/ZhZNMrX5j/mnnHV20c/Hj+eyJ+N7Xpz+RNGyuLj4ovf9qT+P5oN5s2mYchbnhnAs/X/+J+aU6+Tn59EguWGJI3x7nkl+fj5NL7yY1HObsvzDhdSomUBi3XpcdGnbEq9hB+j3575RYnmb9p0oLIy8HqgQ2+f3e3bAteCLAMvSgW5ASoDXEY+IrE8/D3tm8jgap57DmwtWEBMby/HcXN588W8hOWorS7ee1/PZquXs+HoLNw+6h6RfN2DuGy9yPDeXh8ZMAOD5pybyq5oJrNycwelx8RQWFPDe2+bD+NBPWfycfZBJ018GYOuXG7hvwLWs+ucSuv5vpJz+bCaoPfPEn5j70Wc0vfBiwNS1acNah1tWrOmFF7Nrx/YSy7J+3F/m+jVq1KRD56uL5ngAbFy7moaNz2L1J8v4YN5s3vvki6Id7uihzvXm1qpdh8x9eziem1sUbuxaa9Qwv1/XbwDLP1xgfr5pYKnXODvNzAOY8PQLRafUHv3lCFs3bYjoCaoRyE5N2hd4mIYGIkR+fj4AMbGxnMjPY9rjjwKU6ObcvWtnSLs9O13VndUrPuLoL0dIPfd8ftOxM1u+3EDmvh9ofVlH0868POLi4oiJiaWwoIAXpz/Bifw8/vvfQg7/fIgHbu/H1i83APAr60O+fnLDkLU5GHbt2F5iTDoSXNv3Vv61YikL5r7J3ozvmfb42IBzBGx9bxvMB/NmF733G9eu5v7f3Ujm3h9KzdH4/NPlrF7xUdHvMTGx7M34vtzXD6amF15M84sv5ak/j+JEfh5HfznCs5PHcUXXHiSeUQ+A7tf2YePa1axfs5Lr+t5a6jXq/boBl3XswlMTRnH0lyNF/2eemzoxIs/+iBD1AixLxcwdsCf8lXXkkRCSFklEUBAIgRo1EkqdUgem+7NGjYSA69338Bh2fL2FLi1T6Xv1ZTRJPYcruvbgyOGfAeh5Q3/mz55VFBBCocGZjWjZ9nJ6XGeGDGvVrkO7jp3pcV3foi7m+0c+xt6M7+nSMpUbrmrN6XHxdL+uL3syvietaXNGjp/CsLtvoVWTWtx363XcP/JPpbp1nZbWtDl3/P4P3Nn3t/S8/EKemjCa+4Y9wtFfjkTMxMa0ps2Z9srbLHl/Lg/e0Y+YmJgScwQanNmIOJ8dXqeruvPgmD8zcshttGpSi7EP382YiU/Tpn0nOl3VnS7dr+W6K1rS8/ILmT97FvcNe6QoVF7WsTO1ateh/zWXc/SXI1Vuc8OUJiXa5P/vvd6vGxT9PvWFt8j6MZPLLziTbq3TqFUnkQlPv1C0buIZ9ejW83q6dL+2xGm0vq/x+N9eJiYmlm6t07j8gjPJ3LuHyTNeq3L7PcD/4j8pmLMOFvssO2At91+vRQjbJQ47zekGhMHJTXuOOt0GkUrZuHY1x47+Quff9gTMNQ+6tUkrcVqdOK9Vk1oQns/RQZjTA8djzg4AeA2zc/ffvr1uF8xkwM6Y6wOAOXVwFtDI+jkVcybBNuvxl4HB1vPfABoAkzBnIGQD9sSUNOBbYCMw21o3JxiFSvhpXEgkAsXFxfPQnf24f+SfqPfrBqxctpikXzcoGqIRqYIXMNcNsC8juQu4huIQAOaiQ6mYgHE7ZtjgKUyvgG8C3QXMBfoDbYD1wLoQtl1CSD0CIhFq04a1fPj+O0UX57l50D2aCBdhwtgjUB12j8DtwBzMaYV5mJ15WZIxgWAbZc8bAHMdgliKLzAkLqQeAZEI1apte325jgRbASV7AMpygIrt3Ms6VVFcRJMFRUREPExBQEQkuh3ATP77zumGSGTS0ICISHRLR98HIOVQj4CIiIiHKQiIiIh4mIKAiIiIhykIiIiIeJiCgIiIiIcpCIiIiHiYgoCIiIiHKQiIiIh4mIKAiIiIhykIiIiIeJiCgIiIiIcpCIiIiHiYgoCIiIiHKQiIiIh4mIKAiIiIhykIiIiIeNhpTjcgDApR4BGR0PgvEON0I0Qkspx0ugEhpvrcTfWJSAk6UhYREfEwBQEREREPUxAQERHxMAUBERERD1MQEBER8TAFAREREQ9TEBAREfEwBQEREREPUxAQERHxMAUBERERD1MQEBER8TAFAREREQ9TEBAREfEwBQEREREPUxAQERHxMAUBERERD1MQCI40oBA4af2eB8Q615ygU33upvpERMJgIeaDqABY4XBbQkH1uZvqExEJsTTgBJABjHK4LaGg+txN9YmIhMFGzFFJO6cbEiKqz91Un4hIiHUEcoje8UnV526qT0QkDG52ugEhpvrcTfWJSAmnOd2AUGt2furJ9J0ZTjcjZE4//f9x4sR/nG5GyKg+d4v2+oB04AKnGyFSHVEfBICTJ3/Z6HQbQua02m1Qfe6l+tzttNptwBufoxLFdB0BERERD1MQEBER8TAFAREREQ9TEBAREfEwBQEREREPUxAQERHxMAUBERERD1MQEBER8TAFAREREQ9TEBAREfEwBQEREREPUxAQERHxMAUBERERD1MQEBER8TAFAREREQ9TEBAREfEwBQEREREPUxAQERHxMAUBERERD4t1ugEiIlKujsC5FVz3jRC2oyuQAiwBsstZrxlwGfAZsCuE7QmW7kAC8G6Yt5lMaP9eFaYgEASbt+zkq207Sy3v3rU9yQ3qOdCi4CooKOTdhStYt2Eb8fGn07N7Rzq2b+l0s4KmoKCQOf/4iI1fbie5QRJ9el9Fs/NTnW5WpS1c8ikAvXteWWJ5QUEh77z3TzZ++Q2xsTF07tSant07llrn3YUrWLN2M0n1Ehlw8zWkndM4bG2vjF3f7+XdhZ+wb38WLS9uyoCbriE+/vSix/PyTvDOe/8s9bxzz05x67/bu4DbK7huMHcsqcA0YBiQgdnBzwBGA1PKed5E4Hrg7CC2BSAeeBTYBrwTxNcdjak1VEGgGfAscLXfNjsTIUHgNKcbEAYnT/6yMaQbuOXOR5g7v/QHz8olL9K5U+uQbvu02m0IdX39fjeKxUtXc32vzuTlnWDB4lVMnvAAo4YNCul2IfT15eWd4Orevyd9ZwY9ul1O9qEclq9az+yXJ3Jzn9+GbLu2YNW3Zu1mrrnxQUY8OJBxY+4pWn4s9zhXX3c/6Tsz6NWjEwWFBSxYvIpePTrx9qt/ITY2BjB/4+Ur/02vHp3I2JPJug1bWfD206UCQ2UF+++3bMVarr9lOG1aNSftnMYsXf45SfUSWb3sFRLr1AJMMG/V8dZSz719wLW8NnNc0NoCpj5C/znaDHP0aLsEmA68TukdyaogbnccMB6zQ88AkoC9QDrQqozn2OusAq4JYlvA7DhXYkJRMHegg4BE4G9BfE1fr2Ha7PvvZBAmfEwI0TYrRT0CQbBt+3eMePA2pk56yOmmBN2KVf9m/oIVLJ43vWin8PjUVxk78XkG3drL9T0es95cwMZN29m05u9FvQAPjHiSoSOeDEsQCIY3/r6YocOf5Fju8VKPPffSPDZv3cHWde8UHeGvWv0FXXreS9/eK7i5z29ZuORT5i9YwYZP36RNq+YA3DFkAkOHP0n3ru2LwkIkGDr8Sa7v1Zm3X/0LAAeyDnFeyxt48dX3ioLpF5u/IT7+dI5mro6otldDunXzl0Fwd/ynkg0sAPoDLYHNAda5GXPk/koY21VdThyVR0RPgE2TBaspL+8E27Z/R7u2FzndlJDYl3kQgCs7Xlq0rEO7SygoKGTX93udalbQpJ7VkEmP/b7EUECbS5uTfSiHffsPOtiyihk2+q/c9/BfGPvHu0ht0rDU4zlHjnJ9r84luvk7d2pNUr1E0ndmADD7nQ9p1/aiohAA8NCQW8jYk8matYE+651xLPc4A2++huEPDCxaltygHi2an1tUC5hg3uKCtGgJAZWVgOk+3wTsBjYA91PyoG8a5si6nd9zh1vLu1rr2MMRb1u/g+mFALPDD+R24ACw0GfZAOt1dwPfYLrJkwI8twXwFvCtte4inzZ292nDaOv17F6SWOAhYK31vK3AVMxRvq+VmCPxcdZ6qzFzHqZZNWK95spybm/7vF4i5r3eYL3ebuAjzPtnmwb08Nn+NJ/lK/3al2S1e6v1Wmsp/bez29fSesz+O6+03qMqUY9ANW37xsyFyTlylAdGPMmx3P+jTasLuOt315cYt3SrDu0uITY2hudemseoYYMoKCjkjb8vJqleYokdh1v17N6xRPd3Xt4JZr/zIW1aNSelUX0HW1YxHdu35P57+pF2TmNemFV6iPOJ8UNLLdv1/V6yD+WQ0qgBYHac/kNYLZqbuWlfbdsZ8uGtikqoWaPEsAeY3o2Nm7Yz9N6bipZt3LSdZuenMmXaG6TvzCCxTi3u+l3vopqiWAJmR9QOmI2ZqGeP63cG+lnrvYjZeb2G6eLPw0xInAwsBVYAbYAca/19mJ07wDJMT8RAYIzf9ptZz5sMFFjLnsDsuNdgegkSgcGYOQRtfV63o9X2Y5iwccxabzVmbD3XZ91sqw0FmH3YR0A3TG/FUszO/WGgF9CJ4omNna33yO7NSLUea2n9jPWaxamyWEvrtsD6Pd5qW5pVV7b12rdbbegErLPafMx6ToZPDS2t9thSMDv+JMzfbh/m72j/7W6x2hZv/T7TavNc6z0Y6LPdNQHaXy4FgWr6YpPpsRs78Xl6dLucY7nHeXj008x99598vPB514eBtHMaM/+tJ+l/xximP/93CgoKAfjovWdcX5u/a258kI2btgOwdsVrDremYvr0vqpS6xcUFDJk2BOkNKpf9NxjucdJrl9yiCc2NobEOrXIyTkatLYG07IVaxn755ls3LSdwYOuZ8BNxcPRm7fsZN2GrfQ4cjlJ9RJZvHQ1M156JyhzHiLccMwOtT8lJ9Otw+xQbraWp2N2zjMwR8dTMEe6B4A7rOdMwex0WgIjKblzfB0zd6AzJYcm7ElDdrd3S2s7s4HbfNabhTmSfcJnezMxgaQVxTvLWZgehImYHdwUzNH1Kz7buB8TAsZTcrx9LrAcc4R9h8/yNkAXq92xFAcWW7bf+mACzgbMJEW7jgGYHgz/+QoLMQGhO+Z9n2I9Py3A6/qaigkDdttsE4GxwGK/7aRS8r2agwkSA6hCENDQQDWlnnUmQ++5iW83v89rM8cx780pfLzwedas3czfZr596heIcLu+38vQEVNo1/YiJj32eyY99nsS69Ri2Oi/BhyTdrPre3Vm/Jh7SKhZgxtuHUHOkcjcCVbVsdzj3HLnI6z79zbmvTmlaHJdTs6xgOvbj0eiOrUTGHrvTdx3Vx9eeWNB0f+1Y7nHuX1AL+a/9SSL/jGN12aOY+u6d2jTqjmDh04sCrJRqj+mF8B/Rv2LmKPS/j7LnsPsXEYA72O6nG+h/NMCbbOs+wE+y+yj0lUUz2ewH3/c7/np1rb7W89rhtmpvk7xjg3r5xswZy2UpS+mNv+zGFZgdoh9KXnAu5niHa1/CAgkmeKeimsoPrp/F9Oj4f9e2+9fZU47isX0kCyn9JyPxzEBaaDf8rmUfK/WWffxldhuiQZINXTv2p7uXduXWNa5U2taXnw+q1Z/EZaZ9aE0ZvwMEmrW4OOFzxeNufbs3pEL2vQtGi6IFvfeeSMAvXt25rxW1/P0s7OZOHaIw60KjgNZh7jh1hFk7Mnko/eeKTGnJaleIgWFpXeQGXsyw9nESmnX9iLatb2IQbf2IqFmDUY8Op1Bt/YisU4tnn3qjyXWjY8/naH33sTAwY+RvjMjmocImmG68/3HnqF4h+vrbsx4dGdgEhU/ktyH6YbuCzyA2VHZ1xgY7bNeC+t+Zhltjbeec5a1bFuA9U41GTLVel5egMc2Y3pIUiju0QjU7V+WBMw8hSTMkfo+n8dyrO12x3Thp1IcaCorBfNeBJqQk2dtJ81veU6AdatMQaCa9u0/SGxsTKnZ8wk1a1BQWJHAGdk2fvkNnTu1LjHxKqVRfdpcekFRN7qb7fp+LwUFhSUmC6Y0qk9y/SRXTBasiPSdGVxz44PEx5/O6mWvlLo+QEqj+qUmftq9IZF0PYW8vBNs3rqDlhc1LTEs1aNbe5565i22bf+Olhefz4GsQ6Q0bFBinYSaNZxoshPKOpNgFaV3HvEUH0FWdgf2CqabvjumO/x26/V9J6rYr11We7Cek1DJbfsLFALKWl7RHWgsZrikJSbw+J8DmwJ8jNn578PsxJdSfFpnVZRVR8h3JAoC1XTH78dzIOsQW9cV9xDlHDnK5i07efj+WxxsWXCknnVmqZ2EfcZAiwvcf2T1wIipHDiYzaY1fy9alnPkqDWZLvInC57KgaxDdOl5L2nnNGbRP6YF7O7v3Kk1r89ZREFBYVHgW7FqAwAd2kXOBXh2fb+X9l3vYPYrE0vMCdi4yVwoqdn5qXy27it63PAAS99/tkRP3arVX5BYp1bEXiQpSHIwO41A56YnUnInGIuZoQ/wAnAf5sJFs6gY++qCt2O64a/HhAPfnZl9BP0cpYccknyW/WDdJ1Nad8zRcFntyqHsEGMfRR8o4/HyTMNMNhxNyTMgbE9gQkAvzHvhv83KsN8H/x4b39esTE9GpWmOQDUNvedmtm3/jjHjZ5Bz5Cjbtn/HtTcNIyHhVzw0xP1BYOg9N7Nm7WYemzSTA1mHyNiTyZBhT5B9KId77+zjdPOqbei9N7F5y04emzSz6O/X73ejiI2N4d473F/fsDFPk30oh+t7dWbhkk954++Li26bt5irYQ66tRc5Ocd4YOSTZB/KYc3azQwdMYX+fX8bUWGoRfNz6dblN4x4dDpr1m4m58hR3nn3n0x6chaDB11PUr1Eul75G5qdn8rDo55m3YatHMs9zouvvseMl95h7B/viroJrn6WYybD+ae3lsBhSp76Zk8sHI3p3t+MOZqtaBdQHmYSYA/MXIB4Su+sl1r3d/ktj8VMbDts/bwNs0PvT2mTrTbmURwyfMfBl2JChf+pcylW29ZQ9pF2WYYDQzEBqawrKKZiQtcSv+W9A6xrH9GXNX5/DNPOHph2++qDqW95+U2uHvUIVFPvnlfyyozHGD3uWSb/1fQItWt7ESuXvEhSPf/TWN2nT++reP2F8Yyd+DyTnjT/z5udn8rif0yPirHWnt078voL4xk97tmi+tq0as7KJS9G1E6wIlIa1ScxseQR/8YvvyGlYQNmvPiPUus/fP8ttLz4fHNmyOwpDB46segUxL7Xd+XlZ8eGpd2V8farf2HIsCfo0vNeCgoKSahZg6H33lQ0lyM2NoZF/5jGkGFP0L6rmaSdWKcWkyc8UOL6A1FqAmZn8hHm9Ln1mKsQPoXZGdqT9lpi5gSswhytg5nRvgETFjphdl52D8I4zI5ojt/2ZlnbmYTpOvcf434HMxlxEmYn+C7F1zlIsx4rsG7jMUHkLcwV/gow1wZoiTmNEIp7GAZbr/cG8DSmV2I2JjB8CjS1ao6l9CmOp9Ldeu4Bq6ZAk6DexYSXjphZ/bOs9vS0arVPa7TZR/NTMTv8QJdHfgwz1PAx5n3ZAVyJeU8OWHWGjC4xHEQZezJJqFkjrAEgHJcYtpU1HyKUwllftP/9KmLf/oMkJPwqaGcMhKq+Y7nHzfBNwwZlXjgo58hRco4cDXihpWAJ0yWG/dmX2vU/ZQ5Mj8BM696WjjnCXYHZEW/AHHleRMkuZ/uSwmMxoSGZ4nPlc4C6AdqyFjNZ7j7M2Qn+kqz2XE/xzjEHs8P037k9ZG07yWe98ZS89O/bFPcc2OfMp1nb6Oaz3mbM2Qa+8xNOYsbv/U/jW4k5wj+b4vegPGdbbXub4osFgQkOD1B8waTzMKEgzdpGCuZvcYH1e2dK/tvpjtnx+w4RLKD4ux6w2rmbwH/7suo7JQUBl4u0HUmwqT5380J9RObnaDLFY8v7TrHuqaRguq+rM1M9wWpPHuYUx7ImwNlnN8RidpqBuvWTrMf9x/6TKK65KvMCqiIZs3OuyDbtCxgFPl+3WArFoSGoZweURY6lKdwAACAASURBVEMDIiLR5wDB2xlWN0iA2flV5HrVBQQ+jdBXWdc6yC7nsVCpzPtc0Ql/+wjOe15hmiwoIiLiYQoCIiIiHqYgICIi4mEKAiIiIh6mICAiIuJhCgIiIiIepiAgIiLiYQoCIiIiHqYgICIi4mEKAiIiIh6mICAiIuJhCgIiIiIepiAgIiLiYQoCIiIiHqYgICIi4mEKAiIiIh6mICAiIuJhCgIiIiIepiAgIiLiYac53YAw+BFIdroRIfRfojvQqT53i/b6DgBnOt0IEYksJ51uQIipPndTfSJSQjQndRERETkFBQEREREPUxAQERHxMAUBERERD1MQEBER8TAFAREREQ9TEBAREfEwBQEREREPUxAQERHxMAUBERERD1MQEBER8TAFAREREQ9TEBAREfEwBQEREREPUxAQERHxMAUBERERD1MQCI40oBA4af2eB8Q615ygU33upvpERMJgIeaDqABY4XBbQkH1uZvqExEJsTTgBJABjHK4LaGg+txN9YmIhMFGzFFJO6cbEiKqz91Un4hIiHUEcoje8UnV526qT0QkDG52ugEhpvrcTfWJSAmnOd2AUDvnvLNPfv/tbqebETL/7/T/x39O/MfpZoSM6nO3aK8PSAcucLoRItUR9UEAOLnj4Fan2xAyTetfhOpzL9Xnbk3rXwTe+ByVKKbrCIiIiHiYgoCIiIiHKQiIiIh4mIKAiIiIhykIiIiIeJiCgIiIiIcpCIiIiHiYgoCIiIiHKQiIiIh4mIKAiIiIhykIiIiIeJiCgIiIiIcpCIiIiHiYgoCIiIiHKQiIiIh4mIKAiIiIhykIiIiIeJiCgIiIiIcpCIiIiHhYrNMNEBGRU+oInFuB9d4FjgVhe32s11kWhNcK1rZaApdQXGMa0MF63oFQNjDaKQiIiES+u4DbK7DepwQnCDwFZBCeIFDRbfUGxlNcYwfgdaALCgLVoiAgIuIeDwNflfO4l3aIX2GCQYbTDXE7zRGooNtuuJOm9S8qdXv/nYUAXNW6O1e27MayxR8DcE2H67iqdfei27LFH/PmS7Pp0KILV7Xu7mQpAVWmvuO5x3nwruFc2bIbHVp04elJ0wGiqr77Bg4tqmXuG/MA5+ubMXVmwBpuu+FOAMY8OJa2513OH+79Y4nnjfz9mKI6AbIPZjO4/xA6tOhChxZd+MO9fyQ/Px+AH3bv4fqr+nFV6+5c0+E6vlj/JQC3XjuItuddzoypM8NULQFrbVr/IvbvzeTfn23g4sZtuKp1dw5kZvHF+i+L/s/1uuIGtm3+uuh1nhz/dIn/i3+4948cyMziqtbdad6wJfv3ZoatpiD4ClhVzi3PuaaF3WZgAgoC1aYegUqY/Owkbri5d5mP/33RmzRq3JAfdu/heO5x/r7ozaLH6p6RSI2aNWh2YVNGPzg2HM2ttIrW9+ZLszmRn88nG5eRn59Prytu4PIr2/O7ewZGRX3jR06k7hmJfLZtJYd/PkyvK27kN5e3iYj6buzfmyeemVTm44PuuY2hI4cAcPjnw4wbOYnlH63g8ivbFa0zffIMUho35JW5MyksKGRw//t486U53P3AnYwfOZH+g26i/6B+rF29njEPPsZHn33A3xe9EdYQYNtxcGvA5fv37OeSNhfz1vuvUlhQSJ/f9uepmZNp3+kyVn38L0Y/OJbF/3ofgM//tY4/TX6U85qlARAXdzpJ9ZP45ItlERlag6Q7MBq4G7gf6GUtXw6MBJKBJ4A2mG72V4C/lfE6Y4EUYB8wA3jHb514YDjQF0gEcjBd9s8BBT7rxQL3YoY4koB04LEy2t8OGIWZF3AMeKGcGodhQkFLYJpVXwdgMJCACQqTgBV+z+9qPT/NZxvHrPbdgod6VxQEQiD96x20uORC6p6RyPHc4yTVT3K6SUH108FsGjVuSExsDDVia3DW2U04fOiw080KmpsH9aPuGXUBqHtGXeqekcjhnw8DZzvbsEoa8+BjXNL6YuLiTi+xvMUlF9Lpqg4AxMTG0LLNJfywew+/HDnK+s838MKcGQC073QZAN9sS6dFywvD2/hKenzahKL2NjizPlk/ZgFQWFDI99/u5tLftOLoL0dp1Lihk80Mp2SgM7AI00swF7PTvw9Ixew01wCzgYHAdCAbmOPzGi2ABZid+lLgeut1kjA7eTAh4GPMjnsusM163lOYCY63UBwGZmJ2zsuBxdZ6K63HfI/qO1rLD1jti8XsyP17O+waE63fE63fX7Yem2s9d6DV/k7AOmvdPtbjGdY2EoDJmCCQbNXlGQoClfDF+k2llnXvdTU1atYosSx92w62ffU1va64gaO/HOWS1pfwzKynS60XaSpaX/9BN/HgXX/gL489yfHc48TExtL56ivC1cwqq2h9F7RoBsCqj//Fe3MXctbZTWjZ+pKwtPFUfti9t0Q3P8Clv2nFWWc3KbXuc6//jZjYGMb49WD0H9Sv6OfjucdZ8v5HDH/sYfbs3kPymQ2Ii4srerxBwwbs3pXhWBDwr/XX9ZPo2KVDiWUxsTF0vvoKCgsKmfPq2/xj9ruMGj8CgJ3p3xITG8PN/zuA47nHAfjri0/S+rJLw1NA8E3DHHEHshSY4rdsH3ANxTvjb4AemLH1CdayF4G9mB29bxBIwuxE7WVTgNWYnfw7mOAwHLPjvh14w+e5qzC9DAus57fAhIDZwG0+642z2hKoxrYUH5XPAkr/Bw4sGWjl89wFmPAxABME4jE9G7usbdiTK98A1lZwG1FFQaASvv92N4UFBSWWdb76ilI7kiZnN2bE2GFc27cn+fn53DdgKDOmzuSP44eHs7mVVtH60r/ewfHc46Q0bsgvR47yxfovOZCZxTnnRfYRc0XrsxUWFnJ+szQ+mL84Yo6Ksw9m8+/PNpRY1iS1ccAgEBMbU+5rHc89zuD+Q7ik9cV073V1qde1FRQWBFweDv5tOue8c0oFAVtu7nFOj4vjnPPOYeH8xVzbtydxcXEMvOsWho4cQlxcHHPfmMfI34/hky/CMRk+JJIpPgL2F6jrcTYlu+fXAc0oPqIHExYOBHj+LkoGgwJMCJiP6ZafgxkOyKBkCMD6/Smgv7VeH2u5//DD05jueVsqpudiBiW75tOt7Q4sXWIps/2eaw8JJFj3V2Lex/GUPMNiMyY09K/ANqKKgkAl9Bt4Y7ljzDbfdeLi4riuXy/em7uwnGdEhorWN+0vzzBq/IiiXoC4+DhmPDWTv774ZKibWC0Vrc/WtUcXuvboAsBLz77KM7OeDlXTKqz1Za3KnSNQUfv3ZnLvgPu5/Mr2jBpnAmpS/SQKCwtLrVu7Tu1qb6+qKlNr7Tq16D+oH/0H9eOaDtex6uN/0b3X1Qwf+3DROv0G3Mi4kX9m/95Mtw4T3II52q6oH8pYnu33e6BJhhsDLLNnYaZZ9y0wO9OVAdaNtx4Hs4MHs7P1dYySwwJlrQdm2KEiTnX6ZDPrfkeAx9IruI2oorMGQmD8yIlFs60Bjh45WjTmHA1O5J+gRo1fFf1eq3atom7XaDDmwbFs/mJL0e81atYo1ZPgZvv3ZnLrtb/jpoF9eGTiH4t6Dho1acjhQznWfAgzvp6+LZ20phW5jo1zfti9h8H9h1BYUBxizN+skEXzlzBz2ktFyw//fJiY2BjqnlHWQbX4CBQO/JfFYo6+A53BMBkz98BXoP9IgYY6Aq3nH16qSgfAfvSGVEKgMeYmqY1LjTc2atKIJ8c/zWNPPELO4RxmPf86U597IlzNrLKK1ndD/95MnzyDRyaa085eff51Hh7zQLiaWWUVre+c887hibFTGD/1MQ79dIg3XnqLyc8+Hq5mlivQHAGgUj0dox8cS6PGjahVp1bRa9nvw439ezNu5CQeHj2UuW/O45LWlwQcdgiXQLV28hsaOOvsJmQfzGb65GfpO+BGFs1fQvbBbDp26cD+vfv585jHOee8szkn7WymjH+aWwbdFPHzdSJEswDL7PGxfdZ9NiYcTAiwbhLFO297Z5+GGXLwlUbx0b7vev4CLasKe/vnUrp3JRUPUhCooCuu6sj3335fasyysKCw1I7k7gfupFbtWsx4aiY1atZg6nNP8JsObcPZ3EqrTH1Dht1D3TPqMuOpmcTExPDIpFERP1mwsn+/GjV/xdOT/kaNmjWY/OzjRTPSnXTBRc3Yv3d/wLH88oJA68supUlq46LfU6wucd/Xsd+Hx554hJeencXEMX/hghbNHB0OubF/74C1XnLpxaWWvTb/JWZOe5mxfxjP+c3SeOfDOdSuU4vadZrxwuwZzHl1Lr8cOcoVV3VgwJ23hKP50aAlxacN2vpjjtbtSRZLMeP27SiekQ8mRGzFjLn3w5wl8DBmwp5vaOhMybkJm63t9bfWs3sGYjHzEYJhGSZw3IeZy2BvIwUzYdJzFAQq6O4H7qzU+vZYpVuovpIG3HlLxO0wfOcsVEbfATeW+L28cfeY2BiGDLuHIcPuqfR2gq28dmYfLNlLXPeMujwy8Y8B12192aVuPkvA3yhgUDmPz8KcFhgsH2N24Put7dqnGtrh4HHMzvN9zKS/z4CmmImCYCYDgpmwtxxzTYI8zPcFXIKZFOg/DDAaM+FvEcXXGRhH8I7W84ARmLMaVmNOj0zA1JlQzvOiluYIBNGt1/6u6MqCgbz50myG3Rv4w8oNVF/k1/fGS2+VurJgMNx67SDeeOmtoL9udXy1cUvRlQUry76y4IEfK/9ch/XAnKpX1i2YEzrmY0LFUszR/VDM+fwjfdZJx1zrfx9mh/ot5ug/FnMRI99eghus15xkrTcXszP27XEAc5bBYMzZAxusW5K1brDMwvQ6xGIuJDQCE0rmWo975mJCAKc53YAwOFnW1cmiQdP6F5V59bVooPrczQv1Ef2fo0mYo/F0yp+Rn4wZx8+g9M490OvtouxrIoDZSbew1gnmZYTjMcMA/nMVAN7G9HD8KsBjUUtDAyIiUp5sKjZj/wAVO5Ku6OsVEPg0wupKwPRIvIK5BLMtGdPjEsyhFVdQEBARES/JxkxitL+LIN26H4jZJ45xrmnOUBAQERGv6Qc8hDkToR2m92E5ZvKj5y4qpCAgIiJeU4A5o8H5y4VGAJ01ICIi4mEKAiIiIh6mICAiIuJhCgIiIiIepiAgIiLiYQoCIiIiHqYgICIi4mEKAiIiIh6mICAiIuJhCgIiIiIepiAgIiLiYQoCIiIiHqYgICIi4mEKAiIiIh6mICAiIuJhCgIiIiIedprTDQiDH4FkpxsRQv8lugOd6nO3aK/vAHCm040QkciRBpwAWjjdkBBRfe6m+kSklGhO6k5IAQ4BHZxuSIioPndTfSJSioJAcDUCfgDaOd2QEFF97qb6RKQUBYHgSga+ATo63ZAQUX3upvpEpBQFgeBKBtKBJKJzgqLqczfVJyKlKAgEVxJmFvEa4DKH2xIKqs/dVJ+IlKIgEFypmDHKNUBnh9sSCqrP3VSfiJSiIBBcyZgjkvVE54Ql1eduqk9EJMQOA4lAPPB/1n00UX3upvpEREIoHviPz+9ria7uSdXnbqpPRALS0EDwJAP7fH5fR3RNWFJ97qb6RCQgBYHgSaHkB9Eqout8ZtXnbtFeXyrRXZ9IyCgIBE8DzEQl23qi64NI9blbtNdXj+iuTyRkFASCx56xbDsAZBM9X4Ci+txN9YlIQAoCwZOM+eDxtYbo+QIU1eduqk9EAlIQCJ4UIMNv2Tqi53xm1eduqk9EAlIQCB7/rkmAz4iecUrV527RXl8K0V2fSMgoCARPMpDlt2wb0fMFKKrP3aK9viSiuz6RkFEQCJ5AR1wQPV+AovrcTfWJSEAKAsFT3gdRNFzhTPW5m+oTkYAUBILD/2ImvqLhC1BUn7upPhGREGsDbCjjsWj4AhTVp/oiWTuiuz6RkFKPQHD4X7XNVx6wGXcflag+1RfJ/K8q6Csa6hMJKQWB4ChrfNLm+wUosdbNTVSf6otk0V6fSEgpCASH/xe6+IoFfgQGAcuAvUBBmNoVLKpP9UWyaK9PJKSUjIMjBdgYYHkqsAk4CcQA52GOTtxG9am+SJZC4HZHS30iIaUegeBIInDXZAYwGfgFqI2ZtBToAznSqb7oru847q4v0PcMQPTUJxJSCgLBEeiqbbYpwA7MB1Uh7vwgUn3RXd/XwCHcW1+gqwraoqE+EXGB3ZhuyLIkAZnACdz5taiqL/rry0L1iYhU2UlOPd+iI6aL2Y1Un+qLZCcrsI6b6xORCJcM/FTBdbuGsiEhovqKqb7Ik4w5K6Ai3FifiDjtvPPOO4k54ojU2zeqT/VF8E31iUS405xugAucPHz4cJkPfvrpp0yfPp33338/jE0qVrduXaje31H1qb6QUX0ikU9nDVRTZmYmDRs2dLoZIaP63E31icipKAhUU2ZmJvXr13e6GSGj+tzNC/UpCIhUj4JANWVlZdGgQQOnmxEyqs/dVJ+InIqCQDUdOnQoqo+4VJ+7RXt9Bw8e5IwzznC6GSKupiBQTQcPHoz6D1rV517RXl+0Bx2RcFAQqKY9e/bQpEkTp5sRMqrP3VSfiJyKgkA1ZWVlUa9ePaebETKqz928UJ/mCIhUj4JANRw5coTY2Fhq1qzpdFNCQvW5mxfqi4+PJy4uzummiLiagkA1HDp0KKqPRlSfu0V7fQcPHozq3g6RcFEQqIZoP4dZ9blbtNeXlZUV1fWJhIuCQDX8+OOPUf1BpPrcLdrr27t3b1TXJxIuCgLV4IWJWKrPvaK9vmgf+hAJFwWBaoj2c7RVn7upPhGpCAWBaoj2IxLV527RXl+093iIhIuCQDXs2bOHxo0bO92MkFF97hbt9WVmZkZ1fSLhoiBQDS67mEl8ZZ+g+iKK6vOTmZnppvpEIpaCQDW47AtPDgB/pBIfuKovoqg+P/qeAZHgUBCoovz8fHJzc900RlkH+AtwCHgRSChvZdUXcVSfj/z8fPLy8qhTp0442iYS1RQEqijCLmZysgI3gBjgGHAP8B3QuawXVH1hpfqMStUXQcMCbwEDgCSnGyJSFbFON8CtIuyqbadVYJ2TwDfAMmAV8CmQU9bKqi+sVF8l69uzZ08k1bcK6AtMBwYDC51tjkjlKAhU0cGDByPpiKQi6lLOB6s/1RdxVJ+PCKtvlnVrBnwEtAAed7RFIpWgoYEqctlELKjEhyyovgik+nz8/PPPkThRMB1oD/QCXnO4LSIVpiBQRRE2Rhl0qs/dVJ9jDgBXY3oF7nW4LSIVoiBQRZmZmTRp0sTpZoSM6nM3L9QXQXME/B0DbgHGY4YLRCKagkAVZWVlRWLXZNCoPneL9voiPAgA7ALGAm9ThYsliYSTgkAVRfsXnqg+d4v2+rKystwwB2IWJhCMc7ohIuVREKiiaP/CE9XnbtFen4u+UOkB4D4g2emGiJRFQaCKDh48GOldk9Wi+tzNC/W5pMfjAPA6MMrphoiURUGgCiLsYiZBp/rczQv1uWwi5BTgdtQrIBFKQaAKXNQtWSWqz92ivT4X9QbY1CsgEU1BoAp++uknt30QVYrqc7dor+/gwYNunP9g9wqU+2VKIk5QEKiCaJ+IpfrcLdrrc2mPxwHMdxL0cbohIv4UBKrACxdrUX3u5YX6XDoH4nVgoNONEPGnIFAFmZmZUd31qvrczQv1uTQILANaAilON0TEl4JAFbi0a7LCVJ+7RXt9Efw9A6eSBywAbna6ISK+FASqINov36r63C3a63PhNyv6egMND0iEURCoAheevlQpqs/dor2+Q4cOubm+NZjrCaQ63RARm4JAFXjhgi2qz728UJ/LJ0MuBa50uhEiUnE/Aicj+Paj6lN9EXxTfaUNAl6rwvNEJEK0ALY63YgQUn3uFu31tQQ2Od2IakoFdlfyOd0xAcL/1hNICrB+mvX4qS5rnGCt19JnWR9re5GgI6Z9kaCi76l4QFfgY6cbEUKqz92ivb7uREd9uzE7lopaSdm9Ev8BJvqtP8h6rPMpXjfVWs/3q5J3W9sLt1TgfUrOn3gN075IUNH31HVinW6AC6UA+5xuRAipPneL9vqSiY76VmFC265KPq8/kOXzez1gNDAWWAcssZZ/BYwHMqrQtulAThWeV12DgOuBYT7LFlC1GqQSFAQqLwVzudBopfrcLdrrSyU6gsAaTLf3i5V83npK7xi/Br4BBlMcBDZbt6r4WxWfFwoLrZuEkM4aqLxkovuDVvW5W7TXl0R01PcVZj5HMNjBwPfArjume9937D8eMwSwFdP9P4/ApzG+DUzz+X2adeuNCRwbMCEGzByDRzHzNnZbj91P4IPMnphhnd3W68ykeLx9GuZLmfy3P4rSwxQJfnVsAob7bTPZel534F6rXbuBtQS+oFNHzPvxrbXeVmAqgedfRB0FgcqLlg+isqg+d4v2+qIl6OyicnMEyjPcup/tsywZM5ad6LNsEWa4YDPmew8SrWX+2lEyQLTEdNnPBY5hwsMxzA75I5/XfAVIB2Zgdua+JgKLree8gjmFciBmZ52I+ZvawxH7KP4bN6PkmHwiZqc+Ftho1ZEOPGW9lh0G4q3nPQVMttadj3nP52JCia0PsNra1lzrNfcBIzDhQKSUlUThZBEfqs/dor2+1URPfT9S8Rno9mTBtdbP9m0vpSf7QemJbX3KWO+tAMv9Jwva27YDh72zHWct9z/Cvt9abn/TYipmQuMiSh61222yX9d+vfImC04rY5uj/F7LngR52O/1mlnL3/dZ9g2mZv+viP7YWtcOU1E7WVA9AhXj+w8kleibvKL63M1L9aUQPfWlAxdW4/lJFO9YB2KO5MvS17p/2m/545XYnj2focBnm+nAO37rzcJ8r4J9KeU+Vjun+DwX4F1MT8O7lWhDf2BbgG0+jelF8L9881JK/ntJxxzt+/aUXAtcg+nl8GXPsUgkymmyYMUkYZL3KqAR0JDo+TAC1ed2XqqvCVCf6KhvG+YIdUUlnnMLpWvviDnaXgScR+AZ/2nW8/x3dukV3O6+AM9Ns7ZV1qmGzfzutwVYpzITARMxPShLAzxWgKnFPwwFOiujIMA6qcBDmLamAm3wyPwAUBCoqAzMqTnXYrqGVmBO4Umj9D8qN1J97ual+v4LfEp01BeseQJrMOPuIzCnJAY6wvbv9q6sst7nDExA87eK4kBi72fyqtmG+CqsU5F/Hw9h5hIUYMLKNsy8hxbAfZVpoFspCFTcK5i0mYiZpboEd38I+VN97qb63CeH4HU72zvZsnaWu4BumM983/etOgHhmLXdCQEeS6Q4CNgT/9Io3SswHHMkv4RTO0DxZMVAkql4D4ctBRMCNgNXU7I35eVKvpZraY5AxS3E/Cc6AZxFZJ1rGwyqz91Un/v8QHC+hTCR4jkA68tYZykmJPhPshtQje0upfQZBmC61Q9TfObAcuu+j996aZidcI9KbHM5ZijEvyelI6ZbP1DvRHnSMP+ullIyBCRggpMnKAhUXAHwHqbr9XmcufJWKKk+d1N93jAVM5Pevr2NOfe9Gea0vbKuVDgLczT+AnAXJoDchTm1rqomYI7QP8IEjFTMtQbexvQU2BMRV2B24GMxPQDNMEMYi6zn2xMY7b/po5QdUCZYr/2Rta1UzGz+eZgegymVrCGd4omNna3X62i9vn1GR3WHVSTKnAscIXpnkao+d1N97tIMc+paRZT1XQOHMadU+n8xT6BT3ZIpPiXuJPB/mIvtVOT0wbK+JKkd5rx+3zZ9Q+lT7BIwweU/fuv5Tu5LwYQauy4I/F0D7TDDQ77b/JiSvQSBvkOhrPr6WNuzX+soJnD1tn6/11ovak8flMqL9n8Eqs/dVJ97VOVbCIMhGdN9H8wj3WTMkXTKKdZLtLZd3pBIChULe/Y2gzG7PxYzObAFFZuUKG5y3nnnOf195ae6VfSIQPVF5k31ebi+akqk+MhXxDGnOd2AMDh5+HDk/l+rW7cuVO/voPocpPpOKdrrq66TDm9fRJMFRUREvExBQETEGYmUvlqfSNgpCIiIOCMFc+leEUcpCIiIOKMRCgISARQEREScoR4BiQgKAiIizoimr1QWF1MQEBFxRirqEZAIoCAgIuIMDQ1IRFAQEBFxRhvgK6cbIaIgICISfi0x35Z3wOmGiCgIiIiE35XAKqcbIQIKAiIiTuiMgoBECAUBEZHwisUEgRVON0QEFARERMKtHeb6AdlON0QEFARERMJtADDX6UaI2GKdboCUKYHo/mYy1edu0V5fqCQA/YELnG6IiE09ApGnG7AG+NHphoSI6nO3aK8v1AYAy9FpgxJB1CMQGZKAJ4B+QG3gNGebE3Sqz92ivb5wGgyMdboRIr6iIQjEAs2AppiLdKRiLt2ZgPkAi1j5+fn2jxlATSCPkh+yJ8PdpmBSfapPSmiD+Uxa5nRDRHy5MQgkYi7G0RnTTZkG7ALSgY3AUmA/ZvwyG9jtTDNPLS4uzv4xFbgME2S6Am0xQaYiR14R+2Gs+lQfEVyfAx4FpjvdCBF/buni6wj0xuz4UzEX4lgFfApsAwrKee7Jw4cPh7yBVVW3bl0I/HdIomKnF6k+B6m+U3JrfcHWEXgLM0kwLwzbE6mwSO4R6Aj0AfpiPnDmA0OAdU42Koyi/Rxj1edu0V5fsE0FxqMQIBEo0oJAInAX8DDFO/8umK5/ERE36gPEA2843RCRQCIlCKQB9wO3A4uBGzDj/SIibhYLTAbudrohImVxOggkYbrMegCvY8bPdH6tiESLcZiJzPqCIYlYTgaBu4BJmABwHrpKmYhEl3aY6wZc5HRDRMrjRBBIBuZZP1+NmfUvIhJNEoC3MUFAEyslooX7EsPJwEpgAdAJhQARiU7PYq5pssTphoicSjh7BOwQ8ALwtzBuV0QknAZgTn9u5XRDRCoinEFgIuZ0QIUAEYlW7YCngGvQvCdxiXAFgXjMhYH01ZsiEq1SMPOfBgObHW6LrEqnMwAAEltJREFUSIWFa45AV8xXl+rUQBGJRgnAR5jeAM0LEFcJVxDIwqRlEZFoE4vpCViDhj7FhcIVBDZj/rP0CdP2RETCIRZzmuAx4AGH2yJSJeGaI1AA3AEssn5/N0zbFREJFTsEANxC+d+CKhKxwnkdgY2YmbTTgZmYLxgSEXEjhQCJGuG+oNBmzOU2Y4FvgScw1xcQEXELhQCJKuEOAgA5mG/iao85rfAbzH+qrjj/JUgiIuVJxFwYDRQCRIImEfMVxKuBn4DXgN6YkBAMPwInI/j2o+pTfRF8U33FUjEHLlMr+R6ISCWkAA8BHwNHrftRmKt1qbdARJzSBtiLOWgRkTBJALpj0vcmTDBYBDxqLddkQxEJh96YnoPeTjdExOsSMf8Rn6C4x+Ab4C1MSu+IwoGIBNc4TE9AG6cbIhIqpzndgGpqAVwGtMT8R22B+e7vzZivON4I7ADSnWqgiLhSAvAyZl7ADejy6BLF3B4EAkkDLqQ4GDTD/GfehQkE6ZiQsMNapm8IExFfKZhhyM2YM5x0ZoBEtWgMAoHEYwLBuRSHA/uWjQkHu4AM6/47FBJEvKgd5nsDpgNPO9wWkbDwShAoTwrQFNOT4H/LoTgg+N5+sO51pCASPQZhAkB/YJnDbREJGwWB8iVjAsFZmOEF+5Zm3e+jOBzs87nfb91nh7/JIlIFEzEB4Fo0p0g8RkGgeuxgcBamZyHZurdvCZhAYN8yMJOO9mG+mnkfmoQk4qQEzEXMkjGTAhXexXMUBEIrluJQ0IiSIcEODqmUDAgH/H7O8lkmIsGTjJkPkIH5dlQN9YknKQhEBv+wkERxUEiiuKfBDgfZ1n2G9XM2xT0MOeioRuRUmgHvA/OBxxxui4ijFATcxQ4GSZjhiCSfZak+jyVTMiTYPQr27/uAIz4/60hIvKQF8BEwCXjR4baIOE5BIHrZPQr1KO5RSKQ4KCRa98mYIGCHArtH4YD1sx0gcjHh4hjqcRD36oi5RsBg4F2H2yISERQEBIrnMiQBdSgODYmYnoYEiocr7DCxDxMK7KBwDBMU8igZHnzXE3FSR8ycgIHACofbIhIxFASkqnx7FRpgLtqUat3bj9mPJ2BChB0Y9mECgx0Ssv0ey/dZRwFCgsEOAf2ANQ63RSSiKAhIONk9C0nWz42se//g4B8qcigeprADRAGmBwKKL+6037rf53MvohAgUg4FAXEDOzjYIaERZjgjleJhjbLufQOBHRzsoGAHC7s3IgczidLuiVCYcL+ewCsoBIiUSUFAop0dCMAEBzBnXEBxYLCDht0rYfdc+D7XDg++oSGHksMXdtA4gBneCLSOhI96AkQqQEFApGLs0GD3StTBhAZ7+AKKg4a9jn+w8O1hKK9XIsf6+RDFIUJhonJaAKuBvmhioEi5FAREwse3h8EOFvZEy7J6Jex7O3DYgcCeZGnf2wHCd9JlId485TMB2ASMB+Y43BaRiKcgIOIudiCwA0JN694OEHZ4SLHWTfFZ1/c0Tzsc+J7eeQDTC+H2C01NxXwx2A1ON0TEDRQERLzDDgmpFAcI32tD+P6cSvGZGr7ffWFfbOoHn8dywllEBRwGLkITPUUqREFARMrie8lq30ta+37Lpj0/wg4Kgb6S2+6BCIcEYCtwdpi2J+J6sU43QEQiln2hp/RTrGcPRdhfmpUKtPP5OQUztyED2OVzv8O6D8YkyHjMUEZL3DukIeII9QiISDjYX7l9lnWfhvkGwDRMkEi3btus21dUrms/yXp+bWAk8BwKBCIVoiAgIk5LxASCCzGn/TUD2mCO8jf73NZTsnfCngBpO+FzfxA4H4UBERER10oCugLDgbeAb4EfgVHAuUAWZgjC9j1wEjPcMC6sLRUREZGwSANew1wjoQD4BdNzADAfEwSyMb0MIiIiEoUSMN3/J63bZ9bywdbv6g0QERGJcldivj/gP5id/0OYoYQjqDdARETEM+yhgizMmQl3OdscERERKdIsLdXuvo/W2zfBe7dEnKHTB0UklE4W7P/C6TaETGyj1qDPUXG5/3G6ASIiIuIcBQEREREPUxAQERHxMAUBERERD1MQEBER8TAFAREREQ9TEBAREfEwBQEREREPUxAQERHxMAUBERERD1MQEBER8TAFAREREQ9TEBAREfEwBQEREREPUxAQERHxMAUBERERD1MQEBER8TAFAREREQ9TEBAREfGwWKcbICIip9QRODfA8hzgKyAjvM2RaKIgICIS+e4Cbi/n8VXA3cCu8DRHoomCgIiIe/QHsnx+rwn0xYSE1UBbYJ8D7RIXUxAQEXGP9ZQeBlgCpAOTgYnAHeFulLibJguKiLjfFGAbpscgwWd5LHA/sBbYDWwFxvmtA7ASGAT0wfQs7AY2Wc/1FQs85PN63wAzgdQAbRrk81pbgalAYlWKk9BSEBARiQ5LgXigg8+yt4EZwAHgBWANMBr4yFrX1hkYAczG9C7Mxey0Z1AyDEwDnrLWmWFtcyBmh+8bLl4GXgeOAa9g5jDchwkQCgMRRkMDIiLRwR4ySLbuB2DmD4wHJvistwCzAx8OPO6zvBnQCtOzAPA34FvM/IPnrGW3W8/3HX7YhgkHHYBlQHdgMCZ4DPFZ7x1Mz8M4YFgV6pMQUY+AiEh0OOb3e38gDzNs4GsZxcMIvjZSHALA9CJsA5L8ttERs7O3exRmAXWt17W3C/CY3+uvsW7+2xWHqUdARCQ62OP0edZ9C+v+owDrplB6nkB6gPXy/H4fjenqX4oJBWswPQTvAtnWOmnW/bwAr9cM02ORiLkGgkQABQERkejQxrr/2mdZNmZ83l+gZRXxBvApZtihF9AN6IE5Y+FqTK+CvZMP5nYlhBQERETcLxmzU95Fcfd+NqaXYEKA9at6RB5vve7j1i0Bc3bADMzY/7WYuQppmCEJ/x4F9QREIM0REBFxt0T+f3t3FCLVdcdx/CvMwz5sYUvnYUULW9jCBgwYtGCJpZG2aEhDDKakxS2mNKF5qNRQRUsoGtKiIZYojcSCJYYajCShkUZqUDEhhW4xoqVChArZByX7sNB9WOjSbrEP/3OZu+Os67ru3pk93w8MM3PvnbnnDrL/3z3n3Gt0w3cREwMLp4nx/U1N29eJS/ouzHI/A8C/gedLy8aB36Xn4sTybGrLlqbPdxOXG342y/1qntkjIEmd42WmTgqsE5f+dRNn5W+W1h0kZu8fJXoMPiDmBhTX85dDw524CgwRlxmOEjcy6iLuK9BNXHIIMXnw2dSe7rRdHdib2jE4y/1qnhkEJKlzPNH0foSYsHeEmLBXNgp8g7jhz6ul5deJYnzqLvb/OPA6cbng/rRsjJhE+EZ6Pw6sS/stbzdKBJNyWFEbWFJ1AyQtajcnb1ysug3zprZsFXTG39E6MW4/yr35j4l60veNp++bnON2qlAn/AOW1LkMAlKbc7KgJEkZMwhIkpQxg4AkSRkzCEiSlDGDgCRJGTMISJKUMYOAJEkZMwhIkpQxg4AkSRkzCEiSlDGDgCRJGTMISJKUMYOAJEkZMwhIkpQxg4AkSRkzCEiSlDGDgCRJGTMISJKUMYOAJEkZW1J1AyQtap8DvVU3Yh6NAEurboQkSQo3q26A1GkcGpAkKWMGAUmSMmYQkCQpYwYBSZIyZhCQJCljBgFJkjJmEJAkKWMGAUmSMmYQkCQpYwYBSZIyZhCQJCljBgFJkjJmEJAkKWMGAUmSMmYQkCQpYwYBSZIyZhCQ1On6gf8BN9P7CaBWXXMkSdJCO0kEgUngXMVtkSRJC6wf+A8wDOysuC2SJKkCnxC9AmuqbogkSVp4a4ExnB8gSVK2nqy6AZIkKRno77tJdNcv1sen9+7XkqqxpOoGSFrUbk7euFh1G+ZNbdkq8O+oOpz3EZAkKWMGAUmSMmYQkCQpYwYBSZIyZhCQJCljBgFJkjJmEJAkKWMGAUmSMmYQkCQpYwYBSZIyZhCQJCljBgFJkjJmEJAkKWMGAUmSMmYQkCQpYwYBSZIyZhCQJCljBgFJkjJmEJAkKWO1qhsgSZqVOvAYsALoBq4CHwBXmrbrBx5M60YWsoEl3cAm4O/A5dLybwHfBbqAE8CXgHGirQtlU3p+dwH32ZYMApLUGWrAbmA7UUDHgUmgB9gPHAa2pmUQIeAosI7qgkA9tWEPjSDwCPA+0c6RtHwXMMz8BYE1wM+B75WW7U/PBoGqGyBJuiOvA4PAaeAXNArrAPAK8CxRXLdW0rrWxogQ8FFp2cb0/ACNXoyutO182Qv0NS07MI/76ygGAUlqf4/QCAGP0jjrhxgaeBS4BPwUOJSWtYMx4IWmZUXdKQ9lHFyY5kxRxT7bkpMFJan9bUvPzzE1BBQm0za/mmZ9oRt4Hvgr8Fl6/JkIGmU9wMvAP9I2l9Lnupu2+3Hpu/4J/IHooSj0AueBLaXXG9K688Dx9Po40atR1ge8Bnyavv88sL5pm97Uzkul43kbWF3a5jiwsrT/naXlx5mq1T43N22zMi1fTgzVFL/Rn4ghiI5jj4Aktb+1xBj67c70z6XHdGrAGaJIHiV6F7qBp4gx+2+XPn+GKOiHiXH8lUTIWAs8nLbZCewDjgHvEeHhaWIS4H3pc13AQ8CHREAZJgoo6fVoer0mvS/0AxfS66Ppu4oekUHgTWL+waW0jyPEnIl6Op4NwP3pO68DE+n4m/dZVhR40jGNpu85ln6z59K6nnRMb6f9Fcc+mH7D+4FrdBCDgCS1vy6mFsq78RhR/LYDvyktP0EU3Y1EEFidHtuY2n0+QRT5OlEknwKGgB+WtjlLFMb1wBtN+x8FfkTMdehPr6fzW+KYv0ZjCOEQUfj3EUHgZ8RZ/joiaBSGiOL9TeI325GOp2+Gfb6W9vkAjcD1AtHLsQ042bSf7rTteHp/FniLuBrhpdvsp+04NCBJeThHFK5DTcuLold0+xeT9r7P1C72Z4ClNM6ox4leg01EAS328QVuDQGz0U2cWb/H1HkE40To+EF6fxD4OlOLM6X2NU8OvJ3lREg6xq29Lr9Mz81DBEUvROFv6bmLDmOPgCR1hrkWmDGisK4nuvj7iEK+omm7a8CrxMTDC0S3/Fli+OAk0TMAcTXAO+kxAfwlbXOCuV2u2EfUplbDIEOl16Npv5uJbv3pjudO9Kfnyy3WDRO/XX/T8vm8ymFB2SMgSe1vmChwtzt56ycm3K2eZn0v0bX+PjGe3UMU+A0ttt1KnG3vJwreINHtfYEYGgA4BXyFuAfAEBEuDhAT55onH85G84TE6awkJvUdI4Y1akQo2T6HfU/McvmiYBCQpPb3Do279E1nMzGW/eA063cTYWIQ+DIx6W8Hcde/Zj3AJ2n9fWn7I+nzW9I2NaJAvkSM03+RGE6oEb0Fd6uYC1FvsW4NMTegTswjqBPzCL4KPE6M6bc6q59JMZww0GJdNxGiRlusWxQMApLU/g4S49EHaF2s1hJnwqNMPz5ffO5E0/LmcLEF+BcxubBwncbEwS6iOP6XKMaFCRrDAnMZxhghhgU2tvie4kqFCWIoYJgILGUbudXkDG26QhzjE9zaI/GT9Hx6poZ3KoOAJLW/68Qs/TrRPf8KUcA3EcX4DFHoBpl+7LoomHuJYYR+4ra7+2jcqhhiHsAYMU/gSaLgPkTMqp9M68eJXopB4v4CK9JjLzHx7q05Hu+u9D1/JEJO8d0bU3vHieI9QBTqvtI2T6fvKA+jDBNn9buZfthiV/qeM8TxDtD4fa4QVyosSk4WlKTO8C7wHeBFYghgW2ndh8Rth4dafK7wAlH8t9MYR79MdKm/SHS714gQ8DBxmV+5oF8jCnExk7+4FG8PcY8BiAK9j7lfPneSCBn7gY/Tsom0n1+n988QQeFw6XNniSsjPiaKeeH3xNn+HuLM/lSLfRaFfh+N+wlMEnMQdrCI5wksqboBkha1m5M3LlbdhnlTW7YKqvk72kMU9RpRoGczfl1Pnx1m5tn9vaVtr9+mLX1E0bzGvS+YA0RvxzWmXq5XWJ4eM/0OtbTdyB20sZ84rqvT7HNRMQhImk8GAanNOUdAkqSMGQQkScqYQUCSpIwZBCRJyphBQJKkjBkEJEnKmEFAkqSMGQQkScqYQUCSpIwZBCRJyphBQJKkjBkEJEnKmEFAkqSMGQQkScqYQUCSpIwZBCRJyphBQJKkjBkEJEnKmEFAkqSMLam6AZIWtc+B3qobMY9GgKVVN0KSJEmSJEmSJEmSJEmSJEmSJEmSJEmSJEmSJEmSJEmSJEmSJEmSJEmSJEmL2f8BP9fCxddl8HcAAAAASUVORK5CYII=)"
      ],
      "metadata": {
        "id": "aDZtNXrFXVmA"
      }
    },
    {
      "cell_type": "code",
      "source": [
        "# create encoder\n",
        "VOCAB_SIZE = 1000\n",
        "\n",
        "encoder = tf.keras.layers.TextVectorization(max_tokens=VOCAB_SIZE)\n",
        "encoder.adapt(train_dataset.map(lambda text, label: text))"
      ],
      "metadata": {
        "id": "iYDJDqT6IiTq"
      },
      "execution_count": null,
      "outputs": []
    },
    {
      "cell_type": "code",
      "source": [
        "len(encoder.get_vocabulary())"
      ],
      "metadata": {
        "colab": {
          "base_uri": "https://localhost:8080/"
        },
        "id": "rY_LoH82CC-M",
        "outputId": "bbd20728-4132-45b0-dbaf-25940c9125f7"
      },
      "execution_count": null,
      "outputs": [
        {
          "output_type": "execute_result",
          "data": {
            "text/plain": [
              "1000"
            ]
          },
          "metadata": {},
          "execution_count": 15
        }
      ]
    },
    {
      "cell_type": "code",
      "source": [
        "encoder"
      ],
      "metadata": {
        "id": "TQvSoZ-wCfM-",
        "outputId": "03765036-f762-4273-9f7d-1bf949ac270f",
        "colab": {
          "base_uri": "https://localhost:8080/"
        }
      },
      "execution_count": null,
      "outputs": [
        {
          "output_type": "execute_result",
          "data": {
            "text/plain": [
              "<keras.layers.preprocessing.text_vectorization.TextVectorization at 0x7f67f00b8f90>"
            ]
          },
          "metadata": {},
          "execution_count": 16
        }
      ]
    },
    {
      "cell_type": "code",
      "source": [
        "# compose model architecture\n",
        "model = tf.keras.Sequential([\n",
        "    encoder,\n",
        "    tf.keras.layers.Embedding(\n",
        "        input_dim=len(encoder.get_vocabulary()),\n",
        "        output_dim=64,\n",
        "        mask_zero=True # enable to handle variable sequence lengths\n",
        "    ),\n",
        "    tf.keras.layers.Bidirectional(tf.keras.layers.LSTM(64)),\n",
        "    tf.keras.layers.Dense(64, activation='relu'),\n",
        "    tf.keras.layers.Dense(1)\n",
        "])"
      ],
      "metadata": {
        "id": "PiuayjYaKnfM"
      },
      "execution_count": null,
      "outputs": []
    },
    {
      "cell_type": "code",
      "source": [
        "# provide loss, optimizer, and metric\n",
        "model.compile(\n",
        "    loss=tf.keras.losses.BinaryCrossentropy(from_logits=True),\n",
        "    optimizer=tf.keras.optimizers.Adam(1e-4),\n",
        "    metrics=['accuracy']\n",
        ")"
      ],
      "metadata": {
        "id": "uV9os-JWVCqf"
      },
      "execution_count": null,
      "outputs": []
    },
    {
      "cell_type": "markdown",
      "source": [
        "### Training"
      ],
      "metadata": {
        "id": "WutyRk8pdHGx"
      }
    },
    {
      "cell_type": "code",
      "source": [
        "# train the model with 10 epochs\n",
        "history = model.fit(\n",
        "    train_dataset,\n",
        "    epochs=10,\n",
        "    validation_data=test_dataset,\n",
        "    validation_steps=30\n",
        ")"
      ],
      "metadata": {
        "colab": {
          "base_uri": "https://localhost:8080/"
        },
        "id": "lC1eVqGyVhdQ",
        "outputId": "d3cb9236-bbe3-4699-ebb1-3cdfdfff7981"
      },
      "execution_count": null,
      "outputs": [
        {
          "output_type": "stream",
          "name": "stdout",
          "text": [
            "Epoch 1/10\n",
            "335/335 [==============================] - 21s 22ms/step - loss: 0.4899 - accuracy: 0.8654 - val_loss: 0.2515 - val_accuracy: 0.8733\n",
            "Epoch 2/10\n",
            "335/335 [==============================] - 5s 15ms/step - loss: 0.1398 - accuracy: 0.9499 - val_loss: 0.0705 - val_accuracy: 0.9778\n",
            "Epoch 3/10\n",
            "335/335 [==============================] - 5s 15ms/step - loss: 0.0764 - accuracy: 0.9781 - val_loss: 0.0536 - val_accuracy: 0.9822\n",
            "Epoch 4/10\n",
            "335/335 [==============================] - 5s 15ms/step - loss: 0.0568 - accuracy: 0.9836 - val_loss: 0.0463 - val_accuracy: 0.9822\n",
            "Epoch 5/10\n",
            "335/335 [==============================] - 6s 17ms/step - loss: 0.0443 - accuracy: 0.9866 - val_loss: 0.0439 - val_accuracy: 0.9822\n",
            "Epoch 6/10\n",
            "335/335 [==============================] - 5s 15ms/step - loss: 0.0354 - accuracy: 0.9890 - val_loss: 0.0444 - val_accuracy: 0.9844\n",
            "Epoch 7/10\n",
            "335/335 [==============================] - 5s 15ms/step - loss: 0.0283 - accuracy: 0.9902 - val_loss: 0.0460 - val_accuracy: 0.9844\n",
            "Epoch 8/10\n",
            "335/335 [==============================] - 5s 15ms/step - loss: 0.0224 - accuracy: 0.9926 - val_loss: 0.0490 - val_accuracy: 0.9844\n",
            "Epoch 9/10\n",
            "335/335 [==============================] - 5s 15ms/step - loss: 0.0177 - accuracy: 0.9942 - val_loss: 0.0524 - val_accuracy: 0.9844\n",
            "Epoch 10/10\n",
            "335/335 [==============================] - 5s 15ms/step - loss: 0.0142 - accuracy: 0.9948 - val_loss: 0.0567 - val_accuracy: 0.9822\n"
          ]
        }
      ]
    },
    {
      "cell_type": "markdown",
      "source": [
        "### Testing"
      ],
      "metadata": {
        "id": "7Mo8ue25dLl1"
      }
    },
    {
      "cell_type": "code",
      "source": [
        "# take a look at the texts and true labels from the first testing batch \n",
        "for example, label in test_dataset.take(1):\n",
        "  print('texts: ', example.numpy()[:10])\n",
        "  print()\n",
        "  print('labels: ', label.numpy()[:10])"
      ],
      "metadata": {
        "colab": {
          "base_uri": "https://localhost:8080/"
        },
        "id": "AOpJ_-kvXDu0",
        "outputId": "802f7701-0ab1-4085-9d3d-af0cf41c08e6"
      },
      "execution_count": null,
      "outputs": [
        {
          "output_type": "stream",
          "name": "stdout",
          "text": [
            "texts:  [b'Uncle G, just checking up on you. Do have a rewarding month'\n",
            " b\"Hello boytoy ! Geeee ... I'm missing you today. I like to send you a tm and remind you I'm thinking of you ... And you are loved ... *loving kiss*\"\n",
            " b'I think the other two still need to get cash but we can def be ready by 9'\n",
            " b'Hey gals...U all wanna meet 4 dinner at n\\xc3\\xacte? '\n",
            " b\"Dear 0776xxxxxxx U've been invited to XCHAT. This is our final attempt to contact u! Txt CHAT to 86688 150p/MsgrcvdHG/Suite342/2Lands/Row/W1J6HL LDN 18yrs\"\n",
            " b'Babe ! What are you doing ? Where are you ? Who are you talking to ? Do you think of me ? Are you being a good boy? Are you missing me? Do you love me ?'\n",
            " b'Great! How is the office today?'\n",
            " b\"It's cool, we can last a little while. Getting more any time soon?\"\n",
            " b':-( sad puppy noise'\n",
            " b'Yes its possible but dint try. Pls dont tell to any one k']\n",
            "\n",
            "labels:  [0 0 0 0 1 0 0 0 0 0]\n"
          ]
        }
      ]
    },
    {
      "cell_type": "code",
      "source": [
        "# compute loss and accuracy on the testing dataset\n",
        "test_loss, test_acc = model.evaluate(test_dataset)\n",
        "\n",
        "print('Test Loss:', test_loss)\n",
        "print('Test Accuracy:', test_acc)"
      ],
      "metadata": {
        "colab": {
          "base_uri": "https://localhost:8080/"
        },
        "id": "lzt_Jx5AWXnw",
        "outputId": "c966d7d7-2220-4da7-f406-a988cd1a2501"
      },
      "execution_count": null,
      "outputs": [
        {
          "output_type": "stream",
          "name": "stdout",
          "text": [
            "38/38 [==============================] - 0s 6ms/step - loss: 0.0766 - accuracy: 0.9803\n",
            "Test Loss: 0.07655183225870132\n",
            "Test Accuracy: 0.980286717414856\n"
          ]
        }
      ]
    },
    {
      "cell_type": "code",
      "source": [
        "# show predictions for the first testing batch\n",
        "print('Prediction(isSpam?) - Text')\n",
        "print(\"======================================\")\n",
        "for example, label in test_dataset.take(1):\n",
        "    texts = example.numpy()\n",
        "    predictions = model.predict(np.array(texts)) >= 0\n",
        "    for i in range(len(texts)):\n",
        "        print(predictions[i, 0], '-', texts[i])"
      ],
      "metadata": {
        "colab": {
          "base_uri": "https://localhost:8080/"
        },
        "id": "0iS3qZi6W4a5",
        "outputId": "35205ed2-1cf1-4c56-9be1-2dcf243660a1"
      },
      "execution_count": null,
      "outputs": [
        {
          "output_type": "stream",
          "name": "stdout",
          "text": [
            "Prediction(isSpam?) - Text\n",
            "======================================\n",
            "False - b'Uncle G, just checking up on you. Do have a rewarding month'\n",
            "False - b\"Hello boytoy ! Geeee ... I'm missing you today. I like to send you a tm and remind you I'm thinking of you ... And you are loved ... *loving kiss*\"\n",
            "False - b'I think the other two still need to get cash but we can def be ready by 9'\n",
            "False - b'Hey gals...U all wanna meet 4 dinner at n\\xc3\\xacte? '\n",
            "True - b\"Dear 0776xxxxxxx U've been invited to XCHAT. This is our final attempt to contact u! Txt CHAT to 86688 150p/MsgrcvdHG/Suite342/2Lands/Row/W1J6HL LDN 18yrs\"\n",
            "False - b'Babe ! What are you doing ? Where are you ? Who are you talking to ? Do you think of me ? Are you being a good boy? Are you missing me? Do you love me ?'\n",
            "False - b'Great! How is the office today?'\n",
            "False - b\"It's cool, we can last a little while. Getting more any time soon?\"\n",
            "False - b':-( sad puppy noise'\n",
            "False - b'Yes its possible but dint try. Pls dont tell to any one k'\n",
            "False - b\"Anyway holla at me whenever you're around because I need an excuse to go creep on people in sarasota\"\n",
            "False - b'Where you. What happen'\n",
            "False - b'I was gonna ask you lol but i think its at 7'\n",
            "True - b'Ur cash-balance is currently 500 pounds - to maximize ur cash-in now send GO to 86688 only 150p/meg. CC: 08718720201 HG/Suite342/2lands Row/W1j6HL'\n",
            "True - b'PRIVATE! Your 2003 Account Statement for shows 800 un-redeemed S.I.M. points. Call 08715203685 Identifier Code:4xx26 Expires 13/10/04'\n",
            "False - b\"Go chase after her and run her over while she's crossing the street\"\n",
            "True - b\"I'd like to tell you my deepest darkest fantasies. Call me 09094646631 just 60p/min. To stop texts call 08712460324 (nat rate)\"\n",
            "False - b'Is there coming friday is leave for pongal?do you get any news from your work place.'\n",
            "False - b'Hey... Very inconvenient for your sis a not huh?'\n",
            "False - b'Ok i vl..do u know i got adsense approved..'\n",
            "False - b'* Was really good to see you the other day dudette, been missing you!'\n",
            "False - b'I want to go to perumbavoor'\n",
            "False - b'How many times i told in the stage all use to laugh. You not listen aha.'\n",
            "True - b\"You won't believe it but it's true. It's Incredible Txts! Reply G now to learn truly amazing things that will blow your mind. From O2FWD only 18p/txt\"\n",
            "False - b\"(You didn't hear it from me)\"\n",
            "False - b'Thanks for being there for me just to talk to on saturday. You are very dear to me. I cherish having you as a brother and role model.'\n",
            "False - b'Pls clarify back if an open return ticket that i have can be preponed for me to go back to kerala.'\n",
            "True - b'Natalie (20/F) is inviting you to be her friend. Reply YES-165 or NO-165 See her: www.SMS.ac/u/natalie2k9 STOP? Send STOP FRND to 62468'\n",
            "False - b'She ran off with a younger man. we will make pretty babies together :)'\n",
            "True - b'Jamster! To get your free wallpaper text HEART to 88888 now! T&C apply. 16 only. Need Help? Call 08701213186.'\n",
            "False - b'O ic lol. Should play 9 doors sometime yo'\n",
            "False - b'Dunno, my dad said he coming home 2 bring us out 4 lunch. Yup i go w u lor. I call u when i reach school lor...'\n",
            "False - b'We have sent JD for Customer Service cum Accounts Executive to ur mail id, For details contact us'\n",
            "False - b'Desires- u going to doctor 4 liver. And get a bit stylish. Get ur hair managed. Thats it.'\n",
            "False - b'Hmmm.still we dont have opener?'\n",
            "False - b'Yeah so basically any time next week you can get away from your mom &amp; get up before 3'\n",
            "False - b'Edison has rightly said, \"A fool can ask more questions than a wise man can answer\" Now you know why all of us are speechless during ViVa.. GM,GN,GE,GNT:-)'\n",
            "False - b'I will vote for wherever my heart guides me'\n",
            "False - b'With my sis lor... We juz watched italian job.'\n",
            "False - b'Tick, tick, tick .... Where are you ? I could die of loneliness you know ! *pouts* *stomps feet* I need you ...'\n",
            "False - b'Lmao you know me so well...'\n",
            "True - b'Double Mins & Double Txt & 1/2 price Linerental on Latest Orange Bluetooth mobiles. Call MobileUpd8 for the very latest offers. 08000839402 or call2optout/LF56'\n",
            "False - b\"Am on a train back from northampton so i'm afraid not! I'm staying skyving off today ho ho! Will be around wednesday though. Do you fancy the comedy club this week by the way?\"\n",
            "False - b'Goodnight da thangam I really miss u dear.'\n",
            "False - b\"Hey next sun 1030 there's a basic yoga course... at bugis... We can go for that... Pilates intro next sat.... Tell me what time you r free\"\n",
            "False - b'Geeeee ... Your internet is really bad today, eh ?'\n",
            "True - b'Free video camera phones with Half Price line rental for 12 mths and 500 cross ntwk mins 100 txts. Call MobileUpd8 08001950382 or Call2OptOut/674'\n",
            "False - b'I think i am disturbing her da'\n",
            "False - b\"Sorry, I'll call you  later. I am in meeting sir.\"\n",
            "False - b\"Havent stuck at orchard in my dad's car. Going 4 dinner now. U leh? So r they free tonight?\"\n",
            "False - b'Ok i also wan 2 watch e 9 pm show...'\n",
            "False - b'I dunno lei... Like dun haf...'\n",
            "False - b'But your brother transfered only  &lt;#&gt;  +  &lt;#&gt; . Pa.'\n",
            "False - b\"I calls you later. Afternoon onwords mtnl service get problem in south mumbai. I can hear you but you cann't listen me.\"\n",
            "True - b'83039 62735=\\xc2\\xa3450 UK Break AccommodationVouchers terms & conditions apply. 2 claim you mustprovide your claim number which is 15541 '\n",
            "False - b'Talk to g and x about that'\n",
            "False - b'Hai dear friends... This is my new &amp; present number..:) By Rajitha Raj (Ranju)'\n",
            "True - b\"5p 4 alfie Moon's Children in need song on ur mob. Tell ur m8s. Txt Tone charity to 8007 for Nokias or Poly charity for polys: zed 08701417012 profit 2 charity.\"\n",
            "False - b'As in different styles?'\n",
            "True - b'WIN a \\xc2\\xa3200 Shopping spree every WEEK Starting NOW. 2 play text STORE to 88039. SkilGme. TsCs08714740323 1Winawk! age16 \\xc2\\xa31.50perweeksub.'\n",
            "False - b'Gud ni8 dear..slp well..take care..swt dreams..Muah..'\n",
            "False - b'I want to sent  &lt;#&gt; mesages today. Thats y. Sorry if i hurts'\n",
            "True - b'This is the 2nd attempt to contract U, you have won this weeks top prize of either \\xc2\\xa31000 cash or \\xc2\\xa3200 prize. Just call 09066361921'\n",
            "False - b\"Well, i'm glad you didn't find it totally disagreeable ... Lol\"\n"
          ]
        }
      ]
    },
    {
      "cell_type": "code",
      "source": [],
      "metadata": {
        "id": "n6woRaMqYy1c"
      },
      "execution_count": null,
      "outputs": []
    }
  ]
}