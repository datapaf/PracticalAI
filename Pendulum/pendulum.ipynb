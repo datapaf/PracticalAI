{
 "cells": [
  {
   "cell_type": "code",
   "execution_count": 2,
   "metadata": {},
   "outputs": [
    {
     "name": "stderr",
     "output_type": "stream",
     "text": [
      "\u001b[32m\u001b[1m    Updating\u001b[22m\u001b[39m registry at `C:\\Users\\datapaf\\.julia\\registries\\General.toml`"
     ]
    },
    {
     "name": "stderr",
     "output_type": "stream",
     "text": [
      "\n",
      "\u001b[32m\u001b[1m   Resolving\u001b[22m\u001b[39m package versions..."
     ]
    },
    {
     "name": "stderr",
     "output_type": "stream",
     "text": [
      "\n"
     ]
    },
    {
     "name": "stderr",
     "output_type": "stream",
     "text": [
      "\u001b[32m\u001b[1m  No Changes\u001b[22m\u001b[39m to `C:\\Users\\datapaf\\.julia\\environments\\v1.8\\Project.toml`\n",
      "\u001b[32m\u001b[1m  No Changes\u001b[22m\u001b[39m to `C:\\Users\\datapaf\\.julia\\environments\\v1.8\\Manifest.toml`\n"
     ]
    },
    {
     "name": "stderr",
     "output_type": "stream",
     "text": [
      "\u001b[32m\u001b[1m   Resolving\u001b[22m\u001b[39m package versions...\n"
     ]
    },
    {
     "name": "stderr",
     "output_type": "stream",
     "text": [
      "\u001b[32m\u001b[1m  No Changes\u001b[22m\u001b[39m to `C:\\Users\\datapaf\\.julia\\environments\\v1.8\\Project.toml`\n",
      "\u001b[32m\u001b[1m  No Changes\u001b[22m\u001b[39m to `C:\\Users\\datapaf\\.julia\\environments\\v1.8\\Manifest.toml`\n"
     ]
    },
    {
     "name": "stderr",
     "output_type": "stream",
     "text": [
      "\u001b[32m\u001b[1m   Resolving\u001b[22m\u001b[39m package versions..."
     ]
    },
    {
     "name": "stderr",
     "output_type": "stream",
     "text": [
      "\n"
     ]
    },
    {
     "name": "stderr",
     "output_type": "stream",
     "text": [
      "\u001b[32m\u001b[1m  No Changes\u001b[22m\u001b[39m to `C:\\Users\\datapaf\\.julia\\environments\\v1.8\\Project.toml`\n",
      "\u001b[32m\u001b[1m  No Changes\u001b[22m\u001b[39m to `C:\\Users\\datapaf\\.julia\\environments\\v1.8\\Manifest.toml`"
     ]
    },
    {
     "name": "stderr",
     "output_type": "stream",
     "text": [
      "\n"
     ]
    },
    {
     "name": "stderr",
     "output_type": "stream",
     "text": [
      "\u001b[32m\u001b[1m   Resolving\u001b[22m\u001b[39m package versions..."
     ]
    },
    {
     "name": "stderr",
     "output_type": "stream",
     "text": [
      "\n"
     ]
    },
    {
     "name": "stderr",
     "output_type": "stream",
     "text": [
      "\u001b[32m\u001b[1m  No Changes\u001b[22m\u001b[39m to `C:\\Users\\datapaf\\.julia\\environments\\v1.8\\Project.toml`\n",
      "\u001b[32m\u001b[1m  No Changes\u001b[22m\u001b[39m to `C:\\Users\\datapaf\\.julia\\environments\\v1.8\\Manifest.toml`\n"
     ]
    },
    {
     "name": "stderr",
     "output_type": "stream",
     "text": [
      "\u001b[32m\u001b[1m   Resolving\u001b[22m\u001b[39m package versions...\n"
     ]
    },
    {
     "name": "stderr",
     "output_type": "stream",
     "text": [
      "\u001b[32m\u001b[1m  No Changes\u001b[22m\u001b[39m to `C:\\Users\\datapaf\\.julia\\environments\\v1.8\\Project.toml`\n",
      "\u001b[32m\u001b[1m  No Changes\u001b[22m\u001b[39m to `C:\\Users\\datapaf\\.julia\\environments\\v1.8\\Manifest.toml`\n"
     ]
    },
    {
     "name": "stderr",
     "output_type": "stream",
     "text": [
      "\u001b[32m\u001b[1m   Resolving\u001b[22m\u001b[39m package versions..."
     ]
    },
    {
     "name": "stderr",
     "output_type": "stream",
     "text": [
      "\n"
     ]
    },
    {
     "name": "stderr",
     "output_type": "stream",
     "text": [
      "\u001b[32m\u001b[1m  No Changes\u001b[22m\u001b[39m to `C:\\Users\\datapaf\\.julia\\environments\\v1.8\\Project.toml`\n",
      "\u001b[32m\u001b[1m  No Changes\u001b[22m\u001b[39m to `C:\\Users\\datapaf\\.julia\\environments\\v1.8\\Manifest.toml`\n"
     ]
    }
   ],
   "source": [
    "import Pkg\n",
    "Pkg.add(\"ReinforcementLearning\")\n",
    "Pkg.add(\"Lux\")\n",
    "Pkg.add(\"Random\")\n",
    "Pkg.add(\"Flatten\")\n",
    "Pkg.add(\"Plots\")\n",
    "Pkg.add(\"NNlib\")"
   ]
  },
  {
   "cell_type": "code",
   "execution_count": 3,
   "metadata": {},
   "outputs": [],
   "source": [
    "using ReinforcementLearning #Environments and API\n",
    "using Lux #Neural networks with explicit parameterization (Flux would also work) To install: ] add https://github.com/avik-pal/Lux.jl\n",
    "using Random #RNG generation\n",
    "using Flatten #Flatten structs of parameters in vector of arrays - simplifies equations\n",
    "using Plots #Basic plots\n",
    "using NNlib #More neural network functionality"
   ]
  },
  {
   "cell_type": "code",
   "execution_count": 4,
   "metadata": {},
   "outputs": [],
   "source": [
    "struct PGAgent{A, B, C, D, E, F}<:AbstractPolicy #A B C D E F sets static types so they are known at compile time - performance boost\n",
    "    f::A #::A same as above\n",
    "    θ::B\n",
    "    st::C\n",
    "    params::D\n",
    "    trace::E\n",
    "    baseline::F #Baseline\n",
    "end"
   ]
  },
  {
   "cell_type": "code",
   "execution_count": 5,
   "metadata": {},
   "outputs": [],
   "source": [
    "mutable struct EWMA{A, B} #Allows averaging without storing all rewards. See https://en.wikipedia.org/wiki/Moving_average#Exponential_moving_average\n",
    "    mean::A\n",
    "    α::B #Controlls decay rate of average\n",
    "end\n",
    "function update!(s::EWMA, x)\n",
    "    s.mean = (1.0 - s.α) *  s.mean + s.α * x\n",
    "end\n",
    "function (s::EWMA)()\n",
    "    return s.mean\n",
    "end"
   ]
  },
  {
   "cell_type": "code",
   "execution_count": 6,
   "metadata": {},
   "outputs": [],
   "source": [
    "mutable struct PGParams{A, B, C} #Learning parameters\n",
    "    γ::A #Discount rate\n",
    "    α::B #Step size\n",
    "    σ::C #Std\n",
    "end"
   ]
  },
  {
   "cell_type": "code",
   "execution_count": 7,
   "metadata": {},
   "outputs": [],
   "source": [
    "function (me::PGAgent)(env)\n",
    "    #Action and learning loop (merged)\n",
    "    #Get list of parameters\n",
    "    flatθ = Flatten.flatten(me.θ, Array)\n",
    "    #Get reward\n",
    "    r = reward(env)\n",
    "\n",
    "    #Update parameters with reward and trace\n",
    "    for i = 1:length(flatθ)\n",
    "        flatθ[i] .= flatθ[i] .+ me.params.α * (r - me.baseline()) .*  me.trace[i] ./ me.params.σ^2 #The flattened vector is a list of pointers to the arrays in θ. Changing the contect of flatθ with .= also changes θ.\n",
    "    end\n",
    "    #Update baseline\n",
    "    update!(me.baseline, r)\n",
    "    #Generate parameters for this iteration\n",
    "    noisyθ = deepcopy(me.θ)\n",
    "    flatnosiyθ = Flatten.flatten(noisyθ, Array)\n",
    "    #Generate noise\n",
    "    n = [me.params.σ * randn(size(x)) for x in flatnosiyθ]\n",
    "    #Add noise to parameters parameters\n",
    "    for i in 1:length(flatnosiyθ)\n",
    "        flatnosiyθ[i] .=  flatnosiyθ[i] .+ n[i]\n",
    "    end\n",
    "    #Update trace with noise\n",
    "    for i in 1:length(me.trace)\n",
    "        me.trace[i] .= me.params.γ * me.trace[i] + (1-me.params.γ) * n[i]\n",
    "    end\n",
    "    return 2.0*me.f(state(env), noisyθ, me.st)[1][1] #Return action from noisy policy\n",
    "end"
   ]
  },
  {
   "cell_type": "code",
   "execution_count": 8,
   "metadata": {},
   "outputs": [
    {
     "data": {
      "text/plain": [
       "-2.0..2.0"
      ]
     },
     "metadata": {},
     "output_type": "display_data"
    }
   ],
   "source": [
    "#Init environment\n",
    "env = PendulumEnv(continuous = true)\n",
    "action_space(env)"
   ]
  },
  {
   "cell_type": "code",
   "execution_count": 28,
   "metadata": {},
   "outputs": [
    {
     "data": {
      "text/plain": [
       "((layer_1 = (weight = Float32[0.55023634 0.162633 -0.51396894; -0.6010354 -0.5424204 0.6072771; 0.35540164 0.5403466 0.91840017; -0.5179416 -0.893431 -0.08558017], bias = Float32[0.0; 0.0; 0.0; 0.0;;]), layer_2 = (weight = Float32[-0.8809461 -0.006522571 0.05020387 -0.90532714], bias = Float32[0.0;;])), (layer_1 = NamedTuple(), layer_2 = NamedTuple()))"
      ]
     },
     "metadata": {},
     "output_type": "display_data"
    }
   ],
   "source": [
    "#Create ANN and save parameter struct and state (of the ANN in case of RNN, LSTM etc - otherwise empty struct) struct\n",
    "rng = Random.default_rng()\n",
    "nhidden = 4\n",
    "#model = Chain(Dense(length(state(env)) => nhidden,tanh), Dense(nhidden => 1,tanh)) #Creates an ANN\n",
    "model = Chain(Dense(length(state(env)) => nhidden,sigmoid), Dense(nhidden => 1,sigmoid)) #Creates an ANN\n",
    "ps, st = Lux.setup(rng, model)"
   ]
  },
  {
   "cell_type": "code",
   "execution_count": 29,
   "metadata": {},
   "outputs": [
    {
     "data": {
      "text/plain": [
       "4-element Vector{Matrix{Float32}}:\n",
       " [0.0 0.0 -0.0; -0.0 -0.0 0.0; 0.0 0.0 0.0; -0.0 -0.0 -0.0]\n",
       " [0.0; 0.0; 0.0; 0.0;;]\n",
       " [-0.0 -0.0 0.0 -0.0]\n",
       " [0.0;;]"
      ]
     },
     "metadata": {},
     "output_type": "display_data"
    }
   ],
   "source": [
    "#Init trace vector\n",
    "tr = deepcopy(ps)\n",
    "fltr = Flatten.flatten(tr, Array) #Flatten so that we can iterate easily over all parameters in a vector of arrays instead of through the struct\n",
    "[x .= 0.0 .* x for x in fltr] #Set initial traces to 0"
   ]
  },
  {
   "cell_type": "code",
   "execution_count": 30,
   "metadata": {},
   "outputs": [
    {
     "data": {
      "text/plain": [
       "typename(PGAgent)\n",
       "├─ f => typename(Chain)\n",
       "│  └─ layers => typename(NamedTuple)\n",
       "│     ├─ layer_1 => typename(Dense)\n",
       "│     │  ├─ activation => typename(typeof(sigmoid_fast))\n",
       "│     │  ├─ in_dims => 3\n",
       "│     │  ├─ out_dims => 4\n",
       "│     │  ├─ init_weight => typename(typeof(Lux.glorot_uniform))\n",
       "│     │  └─ init_bias => typename(typeof(Lux.zeros32))\n",
       "│     └─ layer_2 => typename(Dense)\n",
       "│        ├─ activation => typename(typeof(sigmoid_fast))\n",
       "│        ├─ in_dims => 4\n",
       "│        ├─ out_dims => 1\n",
       "│        ├─ init_weight => typename(typeof(Lux.glorot_uniform))\n",
       "│        └─ init_bias => typename(typeof(Lux.zeros32))\n",
       "├─ θ => typename(NamedTuple)\n",
       "│  ├─ layer_1 => typename(NamedTuple)\n",
       "│  │  ├─ weight => 4×3 Matrix{Float32}\n",
       "│  │  └─ bias => 4×1 Matrix{Float32}\n",
       "│  └─ layer_2 => typename(NamedTuple)\n",
       "│     ├─ weight => 1×4 Matrix{Float32}\n",
       "│     └─ bias => 1×1 Matrix{Float32}\n",
       "├─ st => typename(NamedTuple)\n",
       "│  ├─ layer_1 => typename(NamedTuple)\n",
       "│  └─ layer_2 => typename(NamedTuple)\n",
       "├─ params => typename(PGParams)\n",
       "│  ├─ γ => 0.95\n",
       "│  ├─ α => 0.01\n",
       "│  └─ σ => 0.1\n",
       "├─ trace\n",
       "│  ├─ 1\n",
       "│  │  └─ 4×3 Matrix{Float32}\n",
       "│  ├─ 2\n",
       "│  │  └─ 4×1 Matrix{Float32}\n",
       "│  ├─ 3\n",
       "│  │  └─ 1×4 Matrix{Float32}\n",
       "│  └─ 4\n",
       "│     └─ 1×1 Matrix{Float32}\n",
       "└─ baseline => typename(EWMA)\n",
       "   ├─ mean => -0.0\n",
       "   └─ α => 0.001\n"
      ]
     },
     "metadata": {},
     "output_type": "display_data"
    }
   ],
   "source": [
    "#params = PGParams(0.95, 0.00001, 0.1) #Set learning parameters\n",
    "params = PGParams(0.95, 0.01, 0.1) #Set learning parameters\n",
    "agent = PGAgent(model,ps,st,params,fltr, EWMA(-0.0, 0.001)) #Create agent"
   ]
  },
  {
   "cell_type": "code",
   "execution_count": 31,
   "metadata": {},
   "outputs": [
    {
     "data": {
      "text/plain": [
       "0.880697756705224"
      ]
     },
     "metadata": {},
     "output_type": "display_data"
    }
   ],
   "source": [
    "#Test model and full agent\n",
    "model([1; 0;1], ps, st)\n",
    "agent(env)"
   ]
  },
  {
   "cell_type": "code",
   "execution_count": 32,
   "metadata": {},
   "outputs": [
    {
     "name": "stdout",
     "output_type": "stream",
     "text": [
      "               ⠀⠀⠀⠀⠀⠀⠀⠀⠀\u001b[97;1mTotal reward per episode\u001b[0m⠀⠀⠀⠀⠀⠀⠀⠀⠀ \n",
      "               \u001b[38;5;8m┌────────────────────────────────────────┐\u001b[0m \n",
      "             \u001b[38;5;8m0\u001b[0m \u001b[38;5;8m│\u001b[0m⠀⠀⠀⠀⠀⠀⠀⠀⠀⠀⠀⠀⠀⠀⠀⠀⠀⠀⠀⠀⠀⠀⠀⠀⠀⠀⠀⠀⠀⠀⠀⠀⠀⠀⠀⠀⠀⠀⠀⠀\u001b[38;5;8m│\u001b[0m \u001b[38;5;8m\u001b[0m\n",
      "              \u001b[38;5;8m\u001b[0m \u001b[38;5;8m│\u001b[0m⠀⠀⠀⠀⠀⠀⠀⠀⠀⠀⠀⠀⠀⠀⠀⠀⠀⠀⠀⠀⠀⠀⠀⠀⠀⠀⠀⠀⠀⠀⠀⠀⠀⠀⠀⠀⠀⠀⠀⠀\u001b[38;5;8m│\u001b[0m \u001b[38;5;8m\u001b[0m\n",
      "              \u001b[38;5;8m\u001b[0m \u001b[38;5;8m│\u001b[0m⠀⠀⠀⠀⠀⠀⠀⠀⠀⠀⠀⠀⠀⠀⠀⠀⠀⠀⠀⠀⠀\u001b[38;5;2m⡄\u001b[0m⠀⠀⠀⠀⠀⠀⠀⠀⠀⠀⠀⠀⠀⠀⠀⠀⠀⠀\u001b[38;5;8m│\u001b[0m \u001b[38;5;8m\u001b[0m\n",
      "              \u001b[38;5;8m\u001b[0m \u001b[38;5;8m│\u001b[0m⠀⠀⠀⠀⠀⠀⠀⠀⠀⠀\u001b[38;5;2m⡀\u001b[0m⠀⠀⠀\u001b[38;5;2m⡀\u001b[0m⠀\u001b[38;5;2m⢰\u001b[0m⠀⠀⠀⠀\u001b[38;5;2m⡇\u001b[0m⠀\u001b[38;5;2m⢀\u001b[0m⠀⠀⠀⠀⠀⠀⠀⠀⠀⠀⠀⠀⠀⠀⠀⠀\u001b[38;5;8m│\u001b[0m \u001b[38;5;8m\u001b[0m\n",
      "              \u001b[38;5;8m\u001b[0m \u001b[38;5;8m│\u001b[0m⠀⠀⠀⠀⠀⠀⠀⠀⠀⠀\u001b[38;5;2m⡇\u001b[0m\u001b[38;5;2m⣄\u001b[0m⠀\u001b[38;5;2m⣄\u001b[0m\u001b[38;5;2m⡇\u001b[0m⠀\u001b[38;5;2m⢸\u001b[0m⠀⠀⠀⠀\u001b[38;5;2m⡇\u001b[0m\u001b[38;5;2m⢀\u001b[0m\u001b[38;5;2m⣼\u001b[0m\u001b[38;5;2m⡄\u001b[0m⠀⠀⠀⠀⠀⠀⠀⠀⠀⠀⠀⠀⠀⠀⠀\u001b[38;5;8m│\u001b[0m \u001b[38;5;8m\u001b[0m\n",
      "              \u001b[38;5;8m\u001b[0m \u001b[38;5;8m│\u001b[0m⠀⠀⠀\u001b[38;5;2m⡄\u001b[0m⠀⠀⠀⠀⠀⠀\u001b[38;5;2m⡇\u001b[0m\u001b[38;5;2m⣿\u001b[0m\u001b[38;5;2m⡇\u001b[0m\u001b[38;5;2m⣿\u001b[0m\u001b[38;5;2m⣿\u001b[0m\u001b[38;5;2m⣤\u001b[0m\u001b[38;5;2m⢸\u001b[0m⠀⠀⠀⠀\u001b[38;5;2m⣧\u001b[0m\u001b[38;5;2m⢸\u001b[0m\u001b[38;5;2m⣿\u001b[0m\u001b[38;5;2m⡇\u001b[0m\u001b[38;5;2m⢠\u001b[0m\u001b[38;5;2m⣤\u001b[0m\u001b[38;5;2m⡄\u001b[0m⠀⠀⠀⠀⠀⠀⠀⠀⠀⠀⠀\u001b[38;5;2m⣄\u001b[0m\u001b[38;5;8m│\u001b[0m \u001b[38;5;8m\u001b[0m\n",
      "              \u001b[38;5;8m\u001b[0m \u001b[38;5;8m│\u001b[0m⠀⠀\u001b[38;5;2m⢰\u001b[0m\u001b[38;5;2m⡇\u001b[0m⠀⠀⠀⠀⠀\u001b[38;5;2m⢀\u001b[0m\u001b[38;5;2m⣧\u001b[0m\u001b[38;5;2m⣿\u001b[0m\u001b[38;5;2m⡇\u001b[0m\u001b[38;5;2m⣿\u001b[0m\u001b[38;5;2m⣿\u001b[0m\u001b[38;5;2m⣿\u001b[0m\u001b[38;5;2m⢸\u001b[0m⠀⠀⠀⠀\u001b[38;5;2m⣿\u001b[0m\u001b[38;5;2m⢸\u001b[0m\u001b[38;5;2m⣿\u001b[0m\u001b[38;5;2m⡇\u001b[0m\u001b[38;5;2m⢸\u001b[0m\u001b[38;5;2m⣿\u001b[0m\u001b[38;5;2m⣧\u001b[0m⠀⠀\u001b[38;5;2m⡀\u001b[0m⠀⠀⠀⠀\u001b[38;5;2m⢸\u001b[0m⠀\u001b[38;5;2m⢠\u001b[0m\u001b[38;5;2m⢠\u001b[0m\u001b[38;5;2m⣿\u001b[0m\u001b[38;5;8m│\u001b[0m \u001b[38;5;8m\u001b[0m\n",
      "   Score      \u001b[38;5;8m\u001b[0m \u001b[38;5;8m│\u001b[0m\u001b[38;5;2m⡇\u001b[0m\u001b[38;5;2m⣆\u001b[0m\u001b[38;5;2m⣼\u001b[0m\u001b[38;5;2m⡇\u001b[0m⠀⠀⠀⠀⠀\u001b[38;5;2m⢸\u001b[0m\u001b[38;5;2m⣿\u001b[0m\u001b[38;5;2m⣿\u001b[0m\u001b[38;5;2m⡇\u001b[0m\u001b[38;5;2m⣿\u001b[0m\u001b[38;5;2m⣿\u001b[0m\u001b[38;5;2m⣿\u001b[0m\u001b[38;5;2m⢸\u001b[0m\u001b[38;5;2m⡇\u001b[0m⠀⠀⠀\u001b[38;5;2m⣿\u001b[0m\u001b[38;5;2m⢸\u001b[0m\u001b[38;5;2m⣿\u001b[0m\u001b[38;5;2m⡇\u001b[0m\u001b[38;5;2m⢸\u001b[0m\u001b[38;5;2m⣿\u001b[0m\u001b[38;5;2m⣿\u001b[0m\u001b[38;5;2m⣆\u001b[0m\u001b[38;5;2m⢀\u001b[0m\u001b[38;5;2m⡇\u001b[0m⠀\u001b[38;5;2m⡄\u001b[0m⠀\u001b[38;5;2m⢀\u001b[0m\u001b[38;5;2m⢸\u001b[0m\u001b[38;5;2m⡆\u001b[0m\u001b[38;5;2m⢸\u001b[0m\u001b[38;5;2m⣾\u001b[0m\u001b[38;5;2m⣿\u001b[0m\u001b[38;5;8m│\u001b[0m \u001b[38;5;8m\u001b[0m\n",
      "              \u001b[38;5;8m\u001b[0m \u001b[38;5;8m│\u001b[0m\u001b[38;5;2m⣧\u001b[0m\u001b[38;5;2m⣿\u001b[0m\u001b[38;5;2m⣿\u001b[0m\u001b[38;5;2m⡇\u001b[0m⠀⠀⠀⠀⠀\u001b[38;5;2m⢸\u001b[0m\u001b[38;5;2m⣿\u001b[0m\u001b[38;5;2m⣿\u001b[0m\u001b[38;5;2m⡇\u001b[0m\u001b[38;5;2m⣿\u001b[0m\u001b[38;5;2m⣿\u001b[0m\u001b[38;5;2m⣿\u001b[0m\u001b[38;5;2m⢸\u001b[0m\u001b[38;5;2m⡇\u001b[0m⠀⠀\u001b[38;5;2m⢠\u001b[0m\u001b[38;5;2m⣿\u001b[0m\u001b[38;5;2m⢸\u001b[0m\u001b[38;5;2m⣿\u001b[0m\u001b[38;5;2m⡇\u001b[0m\u001b[38;5;2m⢸\u001b[0m\u001b[38;5;2m⣿\u001b[0m\u001b[38;5;2m⣿\u001b[0m\u001b[38;5;2m⣿\u001b[0m\u001b[38;5;2m⢸\u001b[0m\u001b[38;5;2m⣇\u001b[0m\u001b[38;5;2m⣤\u001b[0m\u001b[38;5;2m⡇\u001b[0m⠀\u001b[38;5;2m⢸\u001b[0m\u001b[38;5;2m⣿\u001b[0m\u001b[38;5;2m⣷\u001b[0m\u001b[38;5;2m⣾\u001b[0m\u001b[38;5;2m⣿\u001b[0m\u001b[38;5;2m⣿\u001b[0m\u001b[38;5;8m│\u001b[0m \u001b[38;5;8m\u001b[0m\n",
      "              \u001b[38;5;8m\u001b[0m \u001b[38;5;8m│\u001b[0m\u001b[38;5;2m⣿\u001b[0m\u001b[38;5;2m⣿\u001b[0m\u001b[38;5;2m⣿\u001b[0m\u001b[38;5;2m⡇\u001b[0m\u001b[38;5;2m⡄\u001b[0m⠀\u001b[38;5;2m⡄\u001b[0m\u001b[38;5;2m⡄\u001b[0m\u001b[38;5;2m⢀\u001b[0m\u001b[38;5;2m⢸\u001b[0m\u001b[38;5;2m⣿\u001b[0m\u001b[38;5;2m⣿\u001b[0m\u001b[38;5;2m⡇\u001b[0m\u001b[38;5;2m⣿\u001b[0m\u001b[38;5;2m⣿\u001b[0m\u001b[38;5;2m⣿\u001b[0m\u001b[38;5;2m⢸\u001b[0m\u001b[38;5;2m⡇\u001b[0m⠀⠀\u001b[38;5;2m⢸\u001b[0m\u001b[38;5;2m⣿\u001b[0m\u001b[38;5;2m⢸\u001b[0m\u001b[38;5;2m⣿\u001b[0m\u001b[38;5;2m⡇\u001b[0m\u001b[38;5;2m⢸\u001b[0m\u001b[38;5;2m⣿\u001b[0m\u001b[38;5;2m⣿\u001b[0m\u001b[38;5;2m⣿\u001b[0m\u001b[38;5;2m⣿\u001b[0m\u001b[38;5;2m⣿\u001b[0m\u001b[38;5;2m⣿\u001b[0m\u001b[38;5;2m⣇\u001b[0m\u001b[38;5;2m⣶\u001b[0m\u001b[38;5;2m⣿\u001b[0m\u001b[38;5;2m⣿\u001b[0m\u001b[38;5;2m⣿\u001b[0m\u001b[38;5;2m⣿\u001b[0m\u001b[38;5;2m⣿\u001b[0m\u001b[38;5;2m⣿\u001b[0m\u001b[38;5;8m│\u001b[0m \u001b[38;5;8m\u001b[0m\n",
      "              \u001b[38;5;8m\u001b[0m \u001b[38;5;8m│\u001b[0m\u001b[38;5;2m⣿\u001b[0m\u001b[38;5;2m⣿\u001b[0m\u001b[38;5;2m⣿\u001b[0m\u001b[38;5;2m⣿\u001b[0m\u001b[38;5;2m⣿\u001b[0m\u001b[38;5;2m⣇\u001b[0m\u001b[38;5;2m⣧\u001b[0m\u001b[38;5;2m⣿\u001b[0m\u001b[38;5;2m⣾\u001b[0m\u001b[38;5;2m⣿\u001b[0m\u001b[38;5;2m⣿\u001b[0m\u001b[38;5;2m⣿\u001b[0m\u001b[38;5;2m⣧\u001b[0m\u001b[38;5;2m⣿\u001b[0m\u001b[38;5;2m⣿\u001b[0m\u001b[38;5;2m⣿\u001b[0m\u001b[38;5;2m⣸\u001b[0m\u001b[38;5;2m⣷\u001b[0m\u001b[38;5;2m⢠\u001b[0m\u001b[38;5;2m⡄\u001b[0m\u001b[38;5;2m⣾\u001b[0m\u001b[38;5;2m⣿\u001b[0m\u001b[38;5;2m⢸\u001b[0m\u001b[38;5;2m⣿\u001b[0m\u001b[38;5;2m⡇\u001b[0m\u001b[38;5;2m⣾\u001b[0m\u001b[38;5;2m⣿\u001b[0m\u001b[38;5;2m⣿\u001b[0m\u001b[38;5;2m⣿\u001b[0m\u001b[38;5;2m⣿\u001b[0m\u001b[38;5;2m⣿\u001b[0m\u001b[38;5;2m⣿\u001b[0m\u001b[38;5;2m⣿\u001b[0m\u001b[38;5;2m⣿\u001b[0m\u001b[38;5;2m⣿\u001b[0m\u001b[38;5;2m⣿\u001b[0m\u001b[38;5;2m⣿\u001b[0m\u001b[38;5;2m⣿\u001b[0m\u001b[38;5;2m⣿\u001b[0m\u001b[38;5;2m⣿\u001b[0m\u001b[38;5;8m│\u001b[0m \u001b[38;5;8m\u001b[0m\n",
      "              \u001b[38;5;8m\u001b[0m \u001b[38;5;8m│\u001b[0m\u001b[38;5;2m⣿\u001b[0m\u001b[38;5;2m⡟\u001b[0m\u001b[38;5;2m⠛\u001b[0m\u001b[38;5;2m⠛\u001b[0m\u001b[38;5;2m⠛\u001b[0m\u001b[38;5;2m⣿\u001b[0m\u001b[38;5;2m⠛\u001b[0m\u001b[38;5;2m⠛\u001b[0m\u001b[38;5;2m⠛\u001b[0m\u001b[38;5;2m⣿\u001b[0m\u001b[38;5;2m⣿\u001b[0m\u001b[38;5;2m⡟\u001b[0m\u001b[38;5;2m⣿\u001b[0m\u001b[38;5;2m⣿\u001b[0m\u001b[38;5;2m⣿\u001b[0m\u001b[38;5;2m⣿\u001b[0m\u001b[38;5;2m⣿\u001b[0m\u001b[38;5;2m⣿\u001b[0m\u001b[38;5;2m⣿\u001b[0m\u001b[38;5;2m⣷\u001b[0m\u001b[38;5;2m⣿\u001b[0m\u001b[38;5;2m⣿\u001b[0m\u001b[38;5;2m⣸\u001b[0m\u001b[38;5;2m⣿\u001b[0m\u001b[38;5;2m⡇\u001b[0m\u001b[38;5;2m⣿\u001b[0m\u001b[38;5;2m⣿\u001b[0m\u001b[38;5;2m⣿\u001b[0m\u001b[38;5;2m⣿\u001b[0m\u001b[38;5;2m⣿\u001b[0m\u001b[38;5;2m⣿\u001b[0m\u001b[38;5;2m⣿\u001b[0m\u001b[38;5;2m⣿\u001b[0m\u001b[38;5;2m⣿\u001b[0m\u001b[38;5;2m⣿\u001b[0m\u001b[38;5;2m⣿\u001b[0m\u001b[38;5;2m⣿\u001b[0m\u001b[38;5;2m⣿\u001b[0m\u001b[38;5;2m⣿\u001b[0m\u001b[38;5;2m⣿\u001b[0m\u001b[38;5;8m│\u001b[0m \u001b[38;5;8m\u001b[0m\n",
      "              \u001b[38;5;8m\u001b[0m \u001b[38;5;8m│\u001b[0m\u001b[38;5;2m⠛\u001b[0m\u001b[38;5;2m⠃\u001b[0m⠀⠀⠀\u001b[38;5;2m⣿\u001b[0m⠀⠀⠀\u001b[38;5;2m⠹\u001b[0m\u001b[38;5;2m⡿\u001b[0m\u001b[38;5;2m⡇\u001b[0m\u001b[38;5;2m⣿\u001b[0m\u001b[38;5;2m⣿\u001b[0m\u001b[38;5;2m⡇\u001b[0m\u001b[38;5;2m⣿\u001b[0m\u001b[38;5;2m⣿\u001b[0m\u001b[38;5;2m⣿\u001b[0m\u001b[38;5;2m⣿\u001b[0m\u001b[38;5;2m⣿\u001b[0m\u001b[38;5;2m⣿\u001b[0m\u001b[38;5;2m⣿\u001b[0m\u001b[38;5;2m⣿\u001b[0m\u001b[38;5;2m⣿\u001b[0m\u001b[38;5;2m⣿\u001b[0m\u001b[38;5;2m⣿\u001b[0m\u001b[38;5;2m⣿\u001b[0m\u001b[38;5;2m⣿\u001b[0m\u001b[38;5;2m⣿\u001b[0m\u001b[38;5;2m⢻\u001b[0m\u001b[38;5;2m⢹\u001b[0m\u001b[38;5;2m⢻\u001b[0m\u001b[38;5;2m⣿\u001b[0m\u001b[38;5;2m⣿\u001b[0m\u001b[38;5;2m⢿\u001b[0m\u001b[38;5;2m⣿\u001b[0m\u001b[38;5;2m⣿\u001b[0m\u001b[38;5;2m⣿\u001b[0m\u001b[38;5;2m⣿\u001b[0m\u001b[38;5;2m⣿\u001b[0m\u001b[38;5;8m│\u001b[0m \u001b[38;5;8m\u001b[0m\n",
      "              \u001b[38;5;8m\u001b[0m \u001b[38;5;8m│\u001b[0m⠀⠀⠀⠀⠀\u001b[38;5;2m⣿\u001b[0m⠀⠀⠀⠀\u001b[38;5;2m⠁\u001b[0m⠀\u001b[38;5;2m⣿\u001b[0m\u001b[38;5;2m⣿\u001b[0m\u001b[38;5;2m⡇\u001b[0m\u001b[38;5;2m⠿\u001b[0m\u001b[38;5;2m⢿\u001b[0m\u001b[38;5;2m⢻\u001b[0m\u001b[38;5;2m⣿\u001b[0m\u001b[38;5;2m⣿\u001b[0m\u001b[38;5;2m⣿\u001b[0m\u001b[38;5;2m⣿\u001b[0m\u001b[38;5;2m⣿\u001b[0m\u001b[38;5;2m⡿\u001b[0m\u001b[38;5;2m⠿\u001b[0m\u001b[38;5;2m⡟\u001b[0m\u001b[38;5;2m⣿\u001b[0m\u001b[38;5;2m⣿\u001b[0m\u001b[38;5;2m⢸\u001b[0m\u001b[38;5;2m⠘\u001b[0m\u001b[38;5;2m⠸\u001b[0m⠀⠀⠀\u001b[38;5;2m⠈\u001b[0m\u001b[38;5;2m⠛\u001b[0m\u001b[38;5;2m⣿\u001b[0m\u001b[38;5;2m⣿\u001b[0m\u001b[38;5;2m⡟\u001b[0m\u001b[38;5;2m⡿\u001b[0m\u001b[38;5;8m│\u001b[0m \u001b[38;5;8m\u001b[0m\n",
      "         \u001b[38;5;8m-2000\u001b[0m \u001b[38;5;8m│\u001b[0m⠀⠀⠀⠀⠀\u001b[38;5;2m⠹\u001b[0m⠀⠀⠀⠀⠀⠀\u001b[38;5;2m⠏\u001b[0m\u001b[38;5;2m⠟\u001b[0m⠀⠀\u001b[38;5;2m⠈\u001b[0m\u001b[38;5;2m⠈\u001b[0m\u001b[38;5;2m⠉\u001b[0m\u001b[38;5;2m⠋\u001b[0m\u001b[38;5;2m⠹\u001b[0m\u001b[38;5;2m⠏\u001b[0m\u001b[38;5;2m⠛\u001b[0m\u001b[38;5;2m⠁\u001b[0m⠀\u001b[38;5;2m⠁\u001b[0m\u001b[38;5;2m⠋\u001b[0m\u001b[38;5;2m⠈\u001b[0m⠀⠀⠀⠀⠀⠀⠀⠀\u001b[38;5;2m⠃\u001b[0m⠀⠀\u001b[38;5;2m⠁\u001b[0m\u001b[38;5;8m│\u001b[0m \u001b[38;5;8m\u001b[0m\n",
      "               \u001b[38;5;8m└────────────────────────────────────────┘\u001b[0m \n",
      "               ⠀\u001b[38;5;8m0\u001b[0m⠀⠀⠀⠀⠀⠀⠀⠀⠀⠀⠀⠀⠀⠀⠀⠀⠀⠀\u001b[38;5;8m\u001b[0m⠀⠀⠀⠀⠀⠀⠀⠀⠀⠀⠀⠀⠀⠀⠀⠀⠀\u001b[38;5;8m1000\u001b[0m⠀ \n",
      "               ⠀⠀⠀⠀⠀⠀⠀⠀⠀⠀⠀⠀⠀⠀⠀⠀⠀⠀Episode⠀⠀⠀⠀⠀⠀⠀⠀⠀⠀⠀⠀⠀⠀⠀⠀⠀ \n"
     ]
    },
    {
     "data": {
      "text/plain": [
       "TotalRewardPerEpisode([-1283.809995083607, -1471.0376161826691, -1454.278483612224, -1593.9567473557097, -1007.8448823254489, -1336.166957378007, -1345.3689579120419, -1095.4766721401438, -1654.4161037125316, -1178.6025768226602  …  -853.0803667796748, -1223.27619408318, -1191.1668151641375, -1089.562997601789, -774.7814209160039, -840.8911028447534, -1195.4975820400846, -873.8606582720981, -1172.1426094401097, -1527.2263835614935], 0.0, true)"
      ]
     },
     "metadata": {},
     "output_type": "display_data"
    }
   ],
   "source": [
    "agent.θ\n",
    "#Training loop\n",
    "run(\n",
    "    agent,\n",
    "    env,\n",
    "    #StopAfterEpisode(100000),\n",
    "    StopAfterEpisode(1000),\n",
    "    TotalRewardPerEpisode()\n",
    ")"
   ]
  },
  {
   "cell_type": "code",
   "execution_count": 14,
   "metadata": {},
   "outputs": [
    {
     "data": {
      "text/latex": [
       "PG <-> Demo\n",
       "\n"
      ],
      "text/markdown": [
       "PG <-> Demo\n"
      ],
      "text/plain": [
       "  PG <-> Demo"
      ]
     },
     "metadata": {},
     "output_type": "display_data"
    },
    {
     "data": {
      "text/latex": [
       "PG <-> Demo\n",
       "\n"
      ],
      "text/markdown": [
       "PG <-> Demo\n"
      ],
      "text/plain": [
       "  PG <-> Demo"
      ]
     },
     "metadata": {},
     "output_type": "display_data"
    },
    {
     "data": {
      "text/plain": [
       "typename(Experiment)\n",
       "├─ policy => typename(PGAgent)\n",
       "│  ├─ f => typename(Chain)\n",
       "│  │  └─ layers => typename(NamedTuple)\n",
       "│  │     ├─ layer_1 => typename(Dense)\n",
       "│  │     │  ├─ activation => typename(typeof(tanh_fast))\n",
       "│  │     │  ├─ in_dims => 3\n",
       "│  │     │  ├─ out_dims => 4\n",
       "│  │     │  ├─ init_weight => typename(typeof(Lux.glorot_uniform))\n",
       "│  │     │  └─ init_bias => typename(typeof(Lux.zeros32))\n",
       "│  │     └─ layer_2 => typename(Dense)\n",
       "│  │        ├─ activation => typename(typeof(tanh_fast))\n",
       "│  │        ├─ in_dims => 4\n",
       "│  │        ├─ out_dims => 1\n",
       "│  │        ├─ init_weight => typename(typeof(Lux.glorot_uniform))\n",
       "│  │        └─ init_bias => typename(typeof(Lux.zeros32))\n",
       "│  ├─ θ => typename(NamedTuple)\n",
       "│  │  ├─ layer_1 => typename(NamedTuple)\n",
       "│  │  │  ├─ weight => 4×3 Matrix{Float32}\n",
       "│  │  │  └─ bias => 4×1 Matrix{Float32}\n",
       "│  │  └─ layer_2 => typename(NamedTuple)\n",
       "│  │     ├─ weight => 1×4 Matrix{Float32}\n",
       "│  │     └─ bias => 1×1 Matrix{Float32}\n",
       "│  ├─ st => typename(NamedTuple)\n",
       "│  │  ├─ layer_1 => typename(NamedTuple)\n",
       "│  │  └─ layer_2 => typename(NamedTuple)\n",
       "│  ├─ params => typename(PGParams)\n",
       "│  │  ├─ γ => 0.95\n",
       "│  │  ├─ α => 1.0e-5\n",
       "│  │  └─ σ => 0.1\n",
       "│  ├─ trace\n",
       "│  │  ├─ 1\n",
       "│  │  │  └─ 4×3 Matrix{Float32}\n",
       "│  │  ├─ 2\n",
       "│  │  │  └─ 4×1 Matrix{Float32}\n",
       "│  │  ├─ 3\n",
       "│  │  │  └─ 1×4 Matrix{Float32}\n",
       "│  │  └─ 4\n",
       "│  │     └─ 1×1 Matrix{Float32}\n",
       "│  └─ baseline => typename(EWMA)\n",
       "│     ├─ mean => -3.376611417409862\n",
       "│     └─ α => 0.001\n",
       "├─ env => typename(PendulumEnv)\n",
       "├─ stop_condition => typename(StopWhenDone)\n",
       "├─ hook => typename(RolloutHook)\n",
       "│  ├─ render => typename(typeof(plot))\n",
       "│  └─ close => typename(typeof(closeall))\n",
       "└─ description => \"PG <-> Demo\"\n"
      ]
     },
     "metadata": {},
     "output_type": "display_data"
    }
   ],
   "source": [
    "agent.θ\n",
    "#This should plot something visually - did not work for me\n",
    "demo = Experiment(agent,\n",
    "    env,\n",
    "    StopWhenDone(),\n",
    "    RolloutHook(plot, closeall),\n",
    "   \"PG <-> Demo\")\n",
    "run(demo)"
   ]
  },
  {
   "cell_type": "code",
   "execution_count": null,
   "metadata": {},
   "outputs": [],
   "source": []
  }
 ],
 "metadata": {
  "kernelspec": {
   "display_name": "Julia 1.8.2",
   "language": "julia",
   "name": "julia-1.8"
  },
  "language_info": {
   "file_extension": ".jl",
   "mimetype": "application/julia",
   "name": "julia",
   "version": "1.8.2"
  },
  "orig_nbformat": 4,
  "vscode": {
   "interpreter": {
    "hash": "986fe80610293074fafa2cc2d9f29eda1794f8d4e124701103559ee35aa0fbb5"
   }
  }
 },
 "nbformat": 4,
 "nbformat_minor": 2
}
